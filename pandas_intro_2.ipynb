{
  "cells": [
    {
      "cell_type": "markdown",
      "metadata": {
        "id": "GfCBM5bG3JkH"
      },
      "source": [
        "# Pandas Intro (continued)\n",
        "\n",
        "By the end of this lecture, students should feel comfortable with:\n",
        "* Manipulating data in pandas by sorting, grouping, and aggregating\n",
        "* Merging multiple Dataframes together\n",
        "* Joining a Dataframe with itself"
      ]
    },
    {
      "cell_type": "markdown",
      "metadata": {
        "id": "sZAlctZP3JkR"
      },
      "source": [
        "### Part 1: Aggregation, Group By and Sort Review"
      ]
    },
    {
      "cell_type": "markdown",
      "metadata": {
        "id": "CD1OZb-V3JkT"
      },
      "source": [
        "Below is a dataframe, with values initialized as a list-of-lists and columns initialized as a list."
      ]
    },
    {
      "cell_type": "code",
      "execution_count": 1,
      "metadata": {
        "colab": {
          "base_uri": "https://localhost:8080/",
          "height": 300
        },
        "id": "bIIJHRSl3JkU",
        "outputId": "d27686d3-6444-47f4-c6a1-fe13203e2ed9"
      },
      "outputs": [
        {
          "data": {
            "text/html": [
              "<div>\n",
              "<style scoped>\n",
              "    .dataframe tbody tr th:only-of-type {\n",
              "        vertical-align: middle;\n",
              "    }\n",
              "\n",
              "    .dataframe tbody tr th {\n",
              "        vertical-align: top;\n",
              "    }\n",
              "\n",
              "    .dataframe thead th {\n",
              "        text-align: right;\n",
              "    }\n",
              "</style>\n",
              "<table border=\"1\" class=\"dataframe\">\n",
              "  <thead>\n",
              "    <tr style=\"text-align: right;\">\n",
              "      <th></th>\n",
              "      <th>userid</th>\n",
              "      <th>product</th>\n",
              "      <th>price</th>\n",
              "    </tr>\n",
              "  </thead>\n",
              "  <tbody>\n",
              "    <tr>\n",
              "      <th>0</th>\n",
              "      <td>123</td>\n",
              "      <td>xt23</td>\n",
              "      <td>20</td>\n",
              "    </tr>\n",
              "    <tr>\n",
              "      <th>1</th>\n",
              "      <td>123</td>\n",
              "      <td>q45</td>\n",
              "      <td>2</td>\n",
              "    </tr>\n",
              "    <tr>\n",
              "      <th>2</th>\n",
              "      <td>123</td>\n",
              "      <td>a89</td>\n",
              "      <td>25</td>\n",
              "    </tr>\n",
              "    <tr>\n",
              "      <th>3</th>\n",
              "      <td>77</td>\n",
              "      <td>q45</td>\n",
              "      <td>3</td>\n",
              "    </tr>\n",
              "    <tr>\n",
              "      <th>4</th>\n",
              "      <td>77</td>\n",
              "      <td>a89</td>\n",
              "      <td>30</td>\n",
              "    </tr>\n",
              "    <tr>\n",
              "      <th>5</th>\n",
              "      <td>92</td>\n",
              "      <td>xt23</td>\n",
              "      <td>24</td>\n",
              "    </tr>\n",
              "    <tr>\n",
              "      <th>6</th>\n",
              "      <td>92</td>\n",
              "      <td>m33</td>\n",
              "      <td>60</td>\n",
              "    </tr>\n",
              "    <tr>\n",
              "      <th>7</th>\n",
              "      <td>92</td>\n",
              "      <td>a89</td>\n",
              "      <td>28</td>\n",
              "    </tr>\n",
              "  </tbody>\n",
              "</table>\n",
              "</div>"
            ],
            "text/plain": [
              "   userid product  price\n",
              "0     123    xt23     20\n",
              "1     123     q45      2\n",
              "2     123     a89     25\n",
              "3      77     q45      3\n",
              "4      77     a89     30\n",
              "5      92    xt23     24\n",
              "6      92     m33     60\n",
              "7      92     a89     28"
            ]
          },
          "execution_count": 1,
          "metadata": {},
          "output_type": "execute_result"
        }
      ],
      "source": [
        "import pandas as pd\n",
        "\n",
        "df = pd.DataFrame(\n",
        "    [[123, 'xt23', 20], [123, 'q45', 2], [123, 'a89', 25], [77, 'q45', 3],\n",
        "     [77, 'a89', 30], [92, 'xt23', 24], [92, 'm33', 60], [92, 'a89', 28]],\n",
        "    columns=['userid', 'product', 'price'])\n",
        "df"
      ]
    },
    {
      "cell_type": "markdown",
      "metadata": {
        "id": "t6C6cSPN3JkX"
      },
      "source": [
        "**Q: What is the maximum price anyone has paid?**"
      ]
    },
    {
      "cell_type": "code",
      "execution_count": 2,
      "metadata": {
        "colab": {
          "base_uri": "https://localhost:8080/"
        },
        "id": "Te5moWxU3JkY",
        "outputId": "73479840-73e7-4668-81bc-bfe72bf5640f"
      },
      "outputs": [
        {
          "data": {
            "text/plain": [
              "60"
            ]
          },
          "execution_count": 2,
          "metadata": {},
          "output_type": "execute_result"
        }
      ],
      "source": [
        "df['price'].max()"
      ]
    },
    {
      "cell_type": "code",
      "execution_count": 3,
      "metadata": {
        "colab": {
          "base_uri": "https://localhost:8080/",
          "height": 80
        },
        "id": "pGAGq3rC3JkZ",
        "outputId": "c5bd78a2-1ade-492f-9050-da09b712844f"
      },
      "outputs": [
        {
          "data": {
            "text/html": [
              "<div>\n",
              "<style scoped>\n",
              "    .dataframe tbody tr th:only-of-type {\n",
              "        vertical-align: middle;\n",
              "    }\n",
              "\n",
              "    .dataframe tbody tr th {\n",
              "        vertical-align: top;\n",
              "    }\n",
              "\n",
              "    .dataframe thead th {\n",
              "        text-align: right;\n",
              "    }\n",
              "</style>\n",
              "<table border=\"1\" class=\"dataframe\">\n",
              "  <thead>\n",
              "    <tr style=\"text-align: right;\">\n",
              "      <th></th>\n",
              "      <th>userid</th>\n",
              "      <th>product</th>\n",
              "      <th>price</th>\n",
              "    </tr>\n",
              "  </thead>\n",
              "  <tbody>\n",
              "    <tr>\n",
              "      <th>6</th>\n",
              "      <td>92</td>\n",
              "      <td>m33</td>\n",
              "      <td>60</td>\n",
              "    </tr>\n",
              "  </tbody>\n",
              "</table>\n",
              "</div>"
            ],
            "text/plain": [
              "   userid product  price\n",
              "6      92     m33     60"
            ]
          },
          "execution_count": 3,
          "metadata": {},
          "output_type": "execute_result"
        }
      ],
      "source": [
        "df[df['price'] == df['price'].max()]"
      ]
    },
    {
      "cell_type": "markdown",
      "metadata": {
        "id": "qe-bQ6I23Jka"
      },
      "source": [
        "**Q: We want the maximum price per user. Hint: Use groupby.**"
      ]
    },
    {
      "cell_type": "code",
      "execution_count": 4,
      "metadata": {
        "colab": {
          "base_uri": "https://localhost:8080/",
          "height": 175
        },
        "id": "zteOOJ893Jka",
        "outputId": "e842247c-0946-409a-f610-27f6964cd52a"
      },
      "outputs": [
        {
          "data": {
            "text/html": [
              "<div>\n",
              "<style scoped>\n",
              "    .dataframe tbody tr th:only-of-type {\n",
              "        vertical-align: middle;\n",
              "    }\n",
              "\n",
              "    .dataframe tbody tr th {\n",
              "        vertical-align: top;\n",
              "    }\n",
              "\n",
              "    .dataframe thead th {\n",
              "        text-align: right;\n",
              "    }\n",
              "</style>\n",
              "<table border=\"1\" class=\"dataframe\">\n",
              "  <thead>\n",
              "    <tr style=\"text-align: right;\">\n",
              "      <th></th>\n",
              "      <th>price</th>\n",
              "    </tr>\n",
              "    <tr>\n",
              "      <th>userid</th>\n",
              "      <th></th>\n",
              "    </tr>\n",
              "  </thead>\n",
              "  <tbody>\n",
              "    <tr>\n",
              "      <th>77</th>\n",
              "      <td>30</td>\n",
              "    </tr>\n",
              "    <tr>\n",
              "      <th>92</th>\n",
              "      <td>60</td>\n",
              "    </tr>\n",
              "    <tr>\n",
              "      <th>123</th>\n",
              "      <td>25</td>\n",
              "    </tr>\n",
              "  </tbody>\n",
              "</table>\n",
              "</div>"
            ],
            "text/plain": [
              "        price\n",
              "userid       \n",
              "77         30\n",
              "92         60\n",
              "123        25"
            ]
          },
          "execution_count": 4,
          "metadata": {},
          "output_type": "execute_result"
        }
      ],
      "source": [
        "df.groupby('userid')[['price']].max()"
      ]
    },
    {
      "cell_type": "markdown",
      "metadata": {
        "id": "ysWrctew3Jkc"
      },
      "source": [
        "**Q: What is the total amount paid by user?**\n",
        "\n",
        "Note: Pandas will smartly leave out columns for which that aggregation doesn't have meaning."
      ]
    },
    {
      "cell_type": "code",
      "execution_count": 5,
      "metadata": {
        "colab": {
          "base_uri": "https://localhost:8080/",
          "height": 175
        },
        "id": "qFYYAEVk3Jkc",
        "outputId": "2da88d30-b154-452c-e41a-b7d3bdfff335"
      },
      "outputs": [
        {
          "data": {
            "text/html": [
              "<div>\n",
              "<style scoped>\n",
              "    .dataframe tbody tr th:only-of-type {\n",
              "        vertical-align: middle;\n",
              "    }\n",
              "\n",
              "    .dataframe tbody tr th {\n",
              "        vertical-align: top;\n",
              "    }\n",
              "\n",
              "    .dataframe thead th {\n",
              "        text-align: right;\n",
              "    }\n",
              "</style>\n",
              "<table border=\"1\" class=\"dataframe\">\n",
              "  <thead>\n",
              "    <tr style=\"text-align: right;\">\n",
              "      <th></th>\n",
              "      <th>price</th>\n",
              "    </tr>\n",
              "    <tr>\n",
              "      <th>userid</th>\n",
              "      <th></th>\n",
              "    </tr>\n",
              "  </thead>\n",
              "  <tbody>\n",
              "    <tr>\n",
              "      <th>77</th>\n",
              "      <td>33</td>\n",
              "    </tr>\n",
              "    <tr>\n",
              "      <th>92</th>\n",
              "      <td>112</td>\n",
              "    </tr>\n",
              "    <tr>\n",
              "      <th>123</th>\n",
              "      <td>47</td>\n",
              "    </tr>\n",
              "  </tbody>\n",
              "</table>\n",
              "</div>"
            ],
            "text/plain": [
              "        price\n",
              "userid       \n",
              "77         33\n",
              "92        112\n",
              "123        47"
            ]
          },
          "execution_count": 5,
          "metadata": {},
          "output_type": "execute_result"
        }
      ],
      "source": [
        "df.groupby('userid').sum()"
      ]
    },
    {
      "cell_type": "markdown",
      "metadata": {
        "id": "5dISqQQu3Jkd"
      },
      "source": [
        "**Q: Sort the dataframe by userid first, and then price, both ascending.**"
      ]
    },
    {
      "cell_type": "code",
      "execution_count": 6,
      "metadata": {
        "colab": {
          "base_uri": "https://localhost:8080/",
          "height": 300
        },
        "id": "UXhWjjLW3Jke",
        "outputId": "23939f3c-6f23-4c70-975b-763b4f4f4e44"
      },
      "outputs": [
        {
          "data": {
            "text/html": [
              "<div>\n",
              "<style scoped>\n",
              "    .dataframe tbody tr th:only-of-type {\n",
              "        vertical-align: middle;\n",
              "    }\n",
              "\n",
              "    .dataframe tbody tr th {\n",
              "        vertical-align: top;\n",
              "    }\n",
              "\n",
              "    .dataframe thead th {\n",
              "        text-align: right;\n",
              "    }\n",
              "</style>\n",
              "<table border=\"1\" class=\"dataframe\">\n",
              "  <thead>\n",
              "    <tr style=\"text-align: right;\">\n",
              "      <th></th>\n",
              "      <th>userid</th>\n",
              "      <th>product</th>\n",
              "      <th>price</th>\n",
              "    </tr>\n",
              "  </thead>\n",
              "  <tbody>\n",
              "    <tr>\n",
              "      <th>3</th>\n",
              "      <td>77</td>\n",
              "      <td>q45</td>\n",
              "      <td>3</td>\n",
              "    </tr>\n",
              "    <tr>\n",
              "      <th>4</th>\n",
              "      <td>77</td>\n",
              "      <td>a89</td>\n",
              "      <td>30</td>\n",
              "    </tr>\n",
              "    <tr>\n",
              "      <th>5</th>\n",
              "      <td>92</td>\n",
              "      <td>xt23</td>\n",
              "      <td>24</td>\n",
              "    </tr>\n",
              "    <tr>\n",
              "      <th>7</th>\n",
              "      <td>92</td>\n",
              "      <td>a89</td>\n",
              "      <td>28</td>\n",
              "    </tr>\n",
              "    <tr>\n",
              "      <th>6</th>\n",
              "      <td>92</td>\n",
              "      <td>m33</td>\n",
              "      <td>60</td>\n",
              "    </tr>\n",
              "    <tr>\n",
              "      <th>1</th>\n",
              "      <td>123</td>\n",
              "      <td>q45</td>\n",
              "      <td>2</td>\n",
              "    </tr>\n",
              "    <tr>\n",
              "      <th>0</th>\n",
              "      <td>123</td>\n",
              "      <td>xt23</td>\n",
              "      <td>20</td>\n",
              "    </tr>\n",
              "    <tr>\n",
              "      <th>2</th>\n",
              "      <td>123</td>\n",
              "      <td>a89</td>\n",
              "      <td>25</td>\n",
              "    </tr>\n",
              "  </tbody>\n",
              "</table>\n",
              "</div>"
            ],
            "text/plain": [
              "   userid product  price\n",
              "3      77     q45      3\n",
              "4      77     a89     30\n",
              "5      92    xt23     24\n",
              "7      92     a89     28\n",
              "6      92     m33     60\n",
              "1     123     q45      2\n",
              "0     123    xt23     20\n",
              "2     123     a89     25"
            ]
          },
          "execution_count": 6,
          "metadata": {},
          "output_type": "execute_result"
        }
      ],
      "source": [
        "df.sort_values(['userid', 'price'], ascending=[True, True])"
      ]
    },
    {
      "cell_type": "markdown",
      "metadata": {
        "id": "q-JF0hC_3Jkf"
      },
      "source": [
        "### Part 2: Combining Techniques"
      ]
    },
    {
      "cell_type": "markdown",
      "metadata": {
        "id": "Mp45NcLM3Jkf"
      },
      "source": [
        "**Q: We want the maximum price each user paid, and the product associated with that price.**\n",
        "\n",
        "Note the comparison with SQL: In SQL, you groupby and then sort, but in pandas, it's easier to do it the other way around."
      ]
    },
    {
      "cell_type": "code",
      "execution_count": 8,
      "metadata": {},
      "outputs": [
        {
          "data": {
            "text/html": [
              "<div>\n",
              "<style scoped>\n",
              "    .dataframe tbody tr th:only-of-type {\n",
              "        vertical-align: middle;\n",
              "    }\n",
              "\n",
              "    .dataframe tbody tr th {\n",
              "        vertical-align: top;\n",
              "    }\n",
              "\n",
              "    .dataframe thead th {\n",
              "        text-align: right;\n",
              "    }\n",
              "</style>\n",
              "<table border=\"1\" class=\"dataframe\">\n",
              "  <thead>\n",
              "    <tr style=\"text-align: right;\">\n",
              "      <th></th>\n",
              "      <th>userid</th>\n",
              "      <th>product</th>\n",
              "      <th>price</th>\n",
              "    </tr>\n",
              "  </thead>\n",
              "  <tbody>\n",
              "    <tr>\n",
              "      <th>4</th>\n",
              "      <td>77</td>\n",
              "      <td>a89</td>\n",
              "      <td>30</td>\n",
              "    </tr>\n",
              "    <tr>\n",
              "      <th>3</th>\n",
              "      <td>77</td>\n",
              "      <td>q45</td>\n",
              "      <td>3</td>\n",
              "    </tr>\n",
              "    <tr>\n",
              "      <th>6</th>\n",
              "      <td>92</td>\n",
              "      <td>m33</td>\n",
              "      <td>60</td>\n",
              "    </tr>\n",
              "    <tr>\n",
              "      <th>7</th>\n",
              "      <td>92</td>\n",
              "      <td>a89</td>\n",
              "      <td>28</td>\n",
              "    </tr>\n",
              "    <tr>\n",
              "      <th>5</th>\n",
              "      <td>92</td>\n",
              "      <td>xt23</td>\n",
              "      <td>24</td>\n",
              "    </tr>\n",
              "    <tr>\n",
              "      <th>2</th>\n",
              "      <td>123</td>\n",
              "      <td>a89</td>\n",
              "      <td>25</td>\n",
              "    </tr>\n",
              "    <tr>\n",
              "      <th>0</th>\n",
              "      <td>123</td>\n",
              "      <td>xt23</td>\n",
              "      <td>20</td>\n",
              "    </tr>\n",
              "    <tr>\n",
              "      <th>1</th>\n",
              "      <td>123</td>\n",
              "      <td>q45</td>\n",
              "      <td>2</td>\n",
              "    </tr>\n",
              "  </tbody>\n",
              "</table>\n",
              "</div>"
            ],
            "text/plain": [
              "   userid product  price\n",
              "4      77     a89     30\n",
              "3      77     q45      3\n",
              "6      92     m33     60\n",
              "7      92     a89     28\n",
              "5      92    xt23     24\n",
              "2     123     a89     25\n",
              "0     123    xt23     20\n",
              "1     123     q45      2"
            ]
          },
          "execution_count": 8,
          "metadata": {},
          "output_type": "execute_result"
        }
      ],
      "source": [
        "df.sort_values(['userid', 'price'], ascending=[True, False])"
      ]
    },
    {
      "cell_type": "code",
      "execution_count": 11,
      "metadata": {
        "colab": {
          "base_uri": "https://localhost:8080/",
          "height": 143
        },
        "id": "cEmghTu73Jkg",
        "outputId": "1a2ad59f-b07f-446e-9a71-dc86eb170595"
      },
      "outputs": [
        {
          "data": {
            "text/html": [
              "<div>\n",
              "<style scoped>\n",
              "    .dataframe tbody tr th:only-of-type {\n",
              "        vertical-align: middle;\n",
              "    }\n",
              "\n",
              "    .dataframe tbody tr th {\n",
              "        vertical-align: top;\n",
              "    }\n",
              "\n",
              "    .dataframe thead th {\n",
              "        text-align: right;\n",
              "    }\n",
              "</style>\n",
              "<table border=\"1\" class=\"dataframe\">\n",
              "  <thead>\n",
              "    <tr style=\"text-align: right;\">\n",
              "      <th></th>\n",
              "      <th>userid</th>\n",
              "      <th>product</th>\n",
              "      <th>price</th>\n",
              "    </tr>\n",
              "  </thead>\n",
              "  <tbody>\n",
              "    <tr>\n",
              "      <th>4</th>\n",
              "      <td>77</td>\n",
              "      <td>a89</td>\n",
              "      <td>30</td>\n",
              "    </tr>\n",
              "    <tr>\n",
              "      <th>6</th>\n",
              "      <td>92</td>\n",
              "      <td>m33</td>\n",
              "      <td>60</td>\n",
              "    </tr>\n",
              "    <tr>\n",
              "      <th>2</th>\n",
              "      <td>123</td>\n",
              "      <td>a89</td>\n",
              "      <td>25</td>\n",
              "    </tr>\n",
              "  </tbody>\n",
              "</table>\n",
              "</div>"
            ],
            "text/plain": [
              "   userid product  price\n",
              "4      77     a89     30\n",
              "6      92     m33     60\n",
              "2     123     a89     25"
            ]
          },
          "execution_count": 11,
          "metadata": {},
          "output_type": "execute_result"
        }
      ],
      "source": [
        "(df.sort_values(['userid', 'price'], ascending=[True, False]).groupby('userid')\n",
        " .head(1))"
      ]
    },
    {
      "cell_type": "markdown",
      "metadata": {
        "id": "md5qwgNC3Jkg"
      },
      "source": [
        "### Part 3: Exploring The Index"
      ]
    },
    {
      "cell_type": "markdown",
      "metadata": {
        "id": "AEBJNosG3Jkh"
      },
      "source": [
        "Let's add a new column."
      ]
    },
    {
      "cell_type": "code",
      "execution_count": 12,
      "metadata": {
        "colab": {
          "base_uri": "https://localhost:8080/",
          "height": 300
        },
        "id": "wGhMW9Fk3Jkh",
        "outputId": "7f17757e-4684-4ba2-cd1b-2264595d47c9"
      },
      "outputs": [
        {
          "data": {
            "text/html": [
              "<div>\n",
              "<style scoped>\n",
              "    .dataframe tbody tr th:only-of-type {\n",
              "        vertical-align: middle;\n",
              "    }\n",
              "\n",
              "    .dataframe tbody tr th {\n",
              "        vertical-align: top;\n",
              "    }\n",
              "\n",
              "    .dataframe thead th {\n",
              "        text-align: right;\n",
              "    }\n",
              "</style>\n",
              "<table border=\"1\" class=\"dataframe\">\n",
              "  <thead>\n",
              "    <tr style=\"text-align: right;\">\n",
              "      <th></th>\n",
              "      <th>userid</th>\n",
              "      <th>product</th>\n",
              "      <th>price</th>\n",
              "      <th>website</th>\n",
              "    </tr>\n",
              "  </thead>\n",
              "  <tbody>\n",
              "    <tr>\n",
              "      <th>0</th>\n",
              "      <td>123</td>\n",
              "      <td>xt23</td>\n",
              "      <td>20</td>\n",
              "      <td>Amazon</td>\n",
              "    </tr>\n",
              "    <tr>\n",
              "      <th>1</th>\n",
              "      <td>123</td>\n",
              "      <td>q45</td>\n",
              "      <td>2</td>\n",
              "      <td>Amazon</td>\n",
              "    </tr>\n",
              "    <tr>\n",
              "      <th>2</th>\n",
              "      <td>123</td>\n",
              "      <td>a89</td>\n",
              "      <td>25</td>\n",
              "      <td>NewEgg</td>\n",
              "    </tr>\n",
              "    <tr>\n",
              "      <th>3</th>\n",
              "      <td>77</td>\n",
              "      <td>q45</td>\n",
              "      <td>3</td>\n",
              "      <td>NewEgg</td>\n",
              "    </tr>\n",
              "    <tr>\n",
              "      <th>4</th>\n",
              "      <td>77</td>\n",
              "      <td>a89</td>\n",
              "      <td>30</td>\n",
              "      <td>NewEgg</td>\n",
              "    </tr>\n",
              "    <tr>\n",
              "      <th>5</th>\n",
              "      <td>92</td>\n",
              "      <td>xt23</td>\n",
              "      <td>24</td>\n",
              "      <td>Amazon</td>\n",
              "    </tr>\n",
              "    <tr>\n",
              "      <th>6</th>\n",
              "      <td>92</td>\n",
              "      <td>m33</td>\n",
              "      <td>60</td>\n",
              "      <td>Amazon</td>\n",
              "    </tr>\n",
              "    <tr>\n",
              "      <th>7</th>\n",
              "      <td>92</td>\n",
              "      <td>a89</td>\n",
              "      <td>28</td>\n",
              "      <td>Amazon</td>\n",
              "    </tr>\n",
              "  </tbody>\n",
              "</table>\n",
              "</div>"
            ],
            "text/plain": [
              "   userid product  price website\n",
              "0     123    xt23     20  Amazon\n",
              "1     123     q45      2  Amazon\n",
              "2     123     a89     25  NewEgg\n",
              "3      77     q45      3  NewEgg\n",
              "4      77     a89     30  NewEgg\n",
              "5      92    xt23     24  Amazon\n",
              "6      92     m33     60  Amazon\n",
              "7      92     a89     28  Amazon"
            ]
          },
          "execution_count": 12,
          "metadata": {},
          "output_type": "execute_result"
        }
      ],
      "source": [
        "df['website'] = [\n",
        "    'Amazon', 'Amazon', 'NewEgg', 'NewEgg', 'NewEgg', 'Amazon', 'Amazon',\n",
        "    'Amazon'\n",
        "]\n",
        "df"
      ]
    },
    {
      "cell_type": "markdown",
      "metadata": {
        "id": "H2qM42wr3Jki"
      },
      "source": [
        "**Q: What is the total amount paid by each user on each website?**"
      ]
    },
    {
      "cell_type": "code",
      "execution_count": 13,
      "metadata": {
        "colab": {
          "base_uri": "https://localhost:8080/",
          "height": 206
        },
        "id": "-hgOG_1g3Jki",
        "outputId": "c1c9515b-7e53-4563-a389-ac621522e9af"
      },
      "outputs": [
        {
          "data": {
            "text/html": [
              "<div>\n",
              "<style scoped>\n",
              "    .dataframe tbody tr th:only-of-type {\n",
              "        vertical-align: middle;\n",
              "    }\n",
              "\n",
              "    .dataframe tbody tr th {\n",
              "        vertical-align: top;\n",
              "    }\n",
              "\n",
              "    .dataframe thead th {\n",
              "        text-align: right;\n",
              "    }\n",
              "</style>\n",
              "<table border=\"1\" class=\"dataframe\">\n",
              "  <thead>\n",
              "    <tr style=\"text-align: right;\">\n",
              "      <th></th>\n",
              "      <th></th>\n",
              "      <th>price</th>\n",
              "    </tr>\n",
              "    <tr>\n",
              "      <th>userid</th>\n",
              "      <th>website</th>\n",
              "      <th></th>\n",
              "    </tr>\n",
              "  </thead>\n",
              "  <tbody>\n",
              "    <tr>\n",
              "      <th>77</th>\n",
              "      <th>NewEgg</th>\n",
              "      <td>33</td>\n",
              "    </tr>\n",
              "    <tr>\n",
              "      <th>92</th>\n",
              "      <th>Amazon</th>\n",
              "      <td>112</td>\n",
              "    </tr>\n",
              "    <tr>\n",
              "      <th rowspan=\"2\" valign=\"top\">123</th>\n",
              "      <th>Amazon</th>\n",
              "      <td>22</td>\n",
              "    </tr>\n",
              "    <tr>\n",
              "      <th>NewEgg</th>\n",
              "      <td>25</td>\n",
              "    </tr>\n",
              "  </tbody>\n",
              "</table>\n",
              "</div>"
            ],
            "text/plain": [
              "                price\n",
              "userid website       \n",
              "77     NewEgg      33\n",
              "92     Amazon     112\n",
              "123    Amazon      22\n",
              "       NewEgg      25"
            ]
          },
          "execution_count": 13,
          "metadata": {},
          "output_type": "execute_result"
        }
      ],
      "source": [
        "df.groupby(['userid', 'website']).sum()"
      ]
    },
    {
      "cell_type": "markdown",
      "metadata": {
        "id": "LgbuQyaX3Jkj"
      },
      "source": [
        "Now let's do the same groupby as above, but set the as_index flag to \"False\". This will result in a flat table instead of the nested indexes."
      ]
    },
    {
      "cell_type": "code",
      "execution_count": 14,
      "metadata": {
        "colab": {
          "base_uri": "https://localhost:8080/",
          "height": 175
        },
        "id": "ekY0tzgw3Jkj",
        "outputId": "63a70bd2-7d98-4b10-fcb4-f5c13440e6d8"
      },
      "outputs": [
        {
          "data": {
            "text/html": [
              "<div>\n",
              "<style scoped>\n",
              "    .dataframe tbody tr th:only-of-type {\n",
              "        vertical-align: middle;\n",
              "    }\n",
              "\n",
              "    .dataframe tbody tr th {\n",
              "        vertical-align: top;\n",
              "    }\n",
              "\n",
              "    .dataframe thead th {\n",
              "        text-align: right;\n",
              "    }\n",
              "</style>\n",
              "<table border=\"1\" class=\"dataframe\">\n",
              "  <thead>\n",
              "    <tr style=\"text-align: right;\">\n",
              "      <th></th>\n",
              "      <th>userid</th>\n",
              "      <th>website</th>\n",
              "      <th>price</th>\n",
              "    </tr>\n",
              "  </thead>\n",
              "  <tbody>\n",
              "    <tr>\n",
              "      <th>0</th>\n",
              "      <td>77</td>\n",
              "      <td>NewEgg</td>\n",
              "      <td>33</td>\n",
              "    </tr>\n",
              "    <tr>\n",
              "      <th>1</th>\n",
              "      <td>92</td>\n",
              "      <td>Amazon</td>\n",
              "      <td>112</td>\n",
              "    </tr>\n",
              "    <tr>\n",
              "      <th>2</th>\n",
              "      <td>123</td>\n",
              "      <td>Amazon</td>\n",
              "      <td>22</td>\n",
              "    </tr>\n",
              "    <tr>\n",
              "      <th>3</th>\n",
              "      <td>123</td>\n",
              "      <td>NewEgg</td>\n",
              "      <td>25</td>\n",
              "    </tr>\n",
              "  </tbody>\n",
              "</table>\n",
              "</div>"
            ],
            "text/plain": [
              "   userid website  price\n",
              "0      77  NewEgg     33\n",
              "1      92  Amazon    112\n",
              "2     123  Amazon     22\n",
              "3     123  NewEgg     25"
            ]
          },
          "execution_count": 14,
          "metadata": {},
          "output_type": "execute_result"
        }
      ],
      "source": [
        "df.groupby(['userid', 'website'], as_index=False).sum()"
      ]
    },
    {
      "cell_type": "markdown",
      "metadata": {
        "id": "4jkP5zz93Jkk"
      },
      "source": [
        "### Part 4: Merging"
      ]
    },
    {
      "cell_type": "markdown",
      "metadata": {
        "id": "tTxmNRKP3Jkl"
      },
      "source": [
        "Let's now create a second table:"
      ]
    },
    {
      "cell_type": "code",
      "execution_count": 15,
      "metadata": {
        "colab": {
          "base_uri": "https://localhost:8080/",
          "height": 143
        },
        "id": "1P2sQ5O63Jkl",
        "outputId": "133e4f94-57e7-4f90-8fe4-1c273e833a0b"
      },
      "outputs": [
        {
          "data": {
            "text/html": [
              "<div>\n",
              "<style scoped>\n",
              "    .dataframe tbody tr th:only-of-type {\n",
              "        vertical-align: middle;\n",
              "    }\n",
              "\n",
              "    .dataframe tbody tr th {\n",
              "        vertical-align: top;\n",
              "    }\n",
              "\n",
              "    .dataframe thead th {\n",
              "        text-align: right;\n",
              "    }\n",
              "</style>\n",
              "<table border=\"1\" class=\"dataframe\">\n",
              "  <thead>\n",
              "    <tr style=\"text-align: right;\">\n",
              "      <th></th>\n",
              "      <th>userid</th>\n",
              "      <th>country</th>\n",
              "    </tr>\n",
              "  </thead>\n",
              "  <tbody>\n",
              "    <tr>\n",
              "      <th>0</th>\n",
              "      <td>123</td>\n",
              "      <td>USA</td>\n",
              "    </tr>\n",
              "    <tr>\n",
              "      <th>1</th>\n",
              "      <td>77</td>\n",
              "      <td>Canada</td>\n",
              "    </tr>\n",
              "    <tr>\n",
              "      <th>2</th>\n",
              "      <td>92</td>\n",
              "      <td>USA</td>\n",
              "    </tr>\n",
              "  </tbody>\n",
              "</table>\n",
              "</div>"
            ],
            "text/plain": [
              "   userid country\n",
              "0     123     USA\n",
              "1      77  Canada\n",
              "2      92     USA"
            ]
          },
          "execution_count": 15,
          "metadata": {},
          "output_type": "execute_result"
        }
      ],
      "source": [
        "df2 = pd.DataFrame(\n",
        "    [[123, 'USA'], [77, 'Canada'], [92, 'USA']], columns=['userid', 'country'])\n",
        "df2"
      ]
    },
    {
      "cell_type": "markdown",
      "metadata": {
        "id": "S6njAojf3Jkl"
      },
      "source": [
        "We can combine the two tables using a merge function. What it does is, it will do a pairwise comparision of every row in table1 with every row in table2 and if the \"on\" condition matches, it will create a single row with columns from both those matched rows.\n",
        "\n",
        "Merge of two tables with 5 rows each can give as little as 0 rows and as much as 25 rows.\n",
        "\n",
        "    [1,2,3,4,5] merged with [6,7,8,9,10] will give 0 rows\n",
        "    [1,2,3,4,5] merged with [1,2,3,4,5] will give 5 rows\n",
        "    [1,1,1,1,1] merged with [1,1,1,1,1] will give 25 rows"
      ]
    },
    {
      "cell_type": "code",
      "execution_count": 16,
      "metadata": {
        "colab": {
          "base_uri": "https://localhost:8080/",
          "height": 300
        },
        "id": "sSL-4Opo3Jkm",
        "outputId": "783ddef7-ecb7-4516-eaee-b8797b99b500"
      },
      "outputs": [
        {
          "data": {
            "text/html": [
              "<div>\n",
              "<style scoped>\n",
              "    .dataframe tbody tr th:only-of-type {\n",
              "        vertical-align: middle;\n",
              "    }\n",
              "\n",
              "    .dataframe tbody tr th {\n",
              "        vertical-align: top;\n",
              "    }\n",
              "\n",
              "    .dataframe thead th {\n",
              "        text-align: right;\n",
              "    }\n",
              "</style>\n",
              "<table border=\"1\" class=\"dataframe\">\n",
              "  <thead>\n",
              "    <tr style=\"text-align: right;\">\n",
              "      <th></th>\n",
              "      <th>userid</th>\n",
              "      <th>product</th>\n",
              "      <th>price</th>\n",
              "      <th>website</th>\n",
              "      <th>country</th>\n",
              "    </tr>\n",
              "  </thead>\n",
              "  <tbody>\n",
              "    <tr>\n",
              "      <th>0</th>\n",
              "      <td>123</td>\n",
              "      <td>xt23</td>\n",
              "      <td>20</td>\n",
              "      <td>Amazon</td>\n",
              "      <td>USA</td>\n",
              "    </tr>\n",
              "    <tr>\n",
              "      <th>1</th>\n",
              "      <td>123</td>\n",
              "      <td>q45</td>\n",
              "      <td>2</td>\n",
              "      <td>Amazon</td>\n",
              "      <td>USA</td>\n",
              "    </tr>\n",
              "    <tr>\n",
              "      <th>2</th>\n",
              "      <td>123</td>\n",
              "      <td>a89</td>\n",
              "      <td>25</td>\n",
              "      <td>NewEgg</td>\n",
              "      <td>USA</td>\n",
              "    </tr>\n",
              "    <tr>\n",
              "      <th>3</th>\n",
              "      <td>77</td>\n",
              "      <td>q45</td>\n",
              "      <td>3</td>\n",
              "      <td>NewEgg</td>\n",
              "      <td>Canada</td>\n",
              "    </tr>\n",
              "    <tr>\n",
              "      <th>4</th>\n",
              "      <td>77</td>\n",
              "      <td>a89</td>\n",
              "      <td>30</td>\n",
              "      <td>NewEgg</td>\n",
              "      <td>Canada</td>\n",
              "    </tr>\n",
              "    <tr>\n",
              "      <th>5</th>\n",
              "      <td>92</td>\n",
              "      <td>xt23</td>\n",
              "      <td>24</td>\n",
              "      <td>Amazon</td>\n",
              "      <td>USA</td>\n",
              "    </tr>\n",
              "    <tr>\n",
              "      <th>6</th>\n",
              "      <td>92</td>\n",
              "      <td>m33</td>\n",
              "      <td>60</td>\n",
              "      <td>Amazon</td>\n",
              "      <td>USA</td>\n",
              "    </tr>\n",
              "    <tr>\n",
              "      <th>7</th>\n",
              "      <td>92</td>\n",
              "      <td>a89</td>\n",
              "      <td>28</td>\n",
              "      <td>Amazon</td>\n",
              "      <td>USA</td>\n",
              "    </tr>\n",
              "  </tbody>\n",
              "</table>\n",
              "</div>"
            ],
            "text/plain": [
              "   userid product  price website country\n",
              "0     123    xt23     20  Amazon     USA\n",
              "1     123     q45      2  Amazon     USA\n",
              "2     123     a89     25  NewEgg     USA\n",
              "3      77     q45      3  NewEgg  Canada\n",
              "4      77     a89     30  NewEgg  Canada\n",
              "5      92    xt23     24  Amazon     USA\n",
              "6      92     m33     60  Amazon     USA\n",
              "7      92     a89     28  Amazon     USA"
            ]
          },
          "execution_count": 16,
          "metadata": {},
          "output_type": "execute_result"
        }
      ],
      "source": [
        "pd.merge(df, df2, on='userid')"
      ]
    },
    {
      "cell_type": "markdown",
      "metadata": {
        "id": "Uao6hdJ93Jkm"
      },
      "source": [
        "**Q: What is the total amount paid per country?**"
      ]
    },
    {
      "cell_type": "code",
      "execution_count": 17,
      "metadata": {
        "colab": {
          "base_uri": "https://localhost:8080/",
          "height": 143
        },
        "id": "vfE7iVaM3Jkm",
        "outputId": "01cfe634-9a55-41b5-e1e5-9f684236c273"
      },
      "outputs": [
        {
          "data": {
            "text/html": [
              "<div>\n",
              "<style scoped>\n",
              "    .dataframe tbody tr th:only-of-type {\n",
              "        vertical-align: middle;\n",
              "    }\n",
              "\n",
              "    .dataframe tbody tr th {\n",
              "        vertical-align: top;\n",
              "    }\n",
              "\n",
              "    .dataframe thead th {\n",
              "        text-align: right;\n",
              "    }\n",
              "</style>\n",
              "<table border=\"1\" class=\"dataframe\">\n",
              "  <thead>\n",
              "    <tr style=\"text-align: right;\">\n",
              "      <th></th>\n",
              "      <th>price</th>\n",
              "    </tr>\n",
              "    <tr>\n",
              "      <th>country</th>\n",
              "      <th></th>\n",
              "    </tr>\n",
              "  </thead>\n",
              "  <tbody>\n",
              "    <tr>\n",
              "      <th>Canada</th>\n",
              "      <td>33</td>\n",
              "    </tr>\n",
              "    <tr>\n",
              "      <th>USA</th>\n",
              "      <td>159</td>\n",
              "    </tr>\n",
              "  </tbody>\n",
              "</table>\n",
              "</div>"
            ],
            "text/plain": [
              "         price\n",
              "country       \n",
              "Canada      33\n",
              "USA        159"
            ]
          },
          "execution_count": 17,
          "metadata": {},
          "output_type": "execute_result"
        }
      ],
      "source": [
        "pd.merge(df, df2, on='userid').groupby(['country'])[['price']].sum()"
      ]
    },
    {
      "cell_type": "markdown",
      "metadata": {
        "id": "9TTgsuAH3Jkn"
      },
      "source": [
        "**Q: What is the average amount paid per country and website?**"
      ]
    },
    {
      "cell_type": "code",
      "execution_count": 18,
      "metadata": {
        "colab": {
          "base_uri": "https://localhost:8080/",
          "height": 143
        },
        "id": "jIxxV50w3Jkn",
        "outputId": "5b571c2f-1cba-4d11-e091-52983ddde3b9"
      },
      "outputs": [
        {
          "data": {
            "text/html": [
              "<div>\n",
              "<style scoped>\n",
              "    .dataframe tbody tr th:only-of-type {\n",
              "        vertical-align: middle;\n",
              "    }\n",
              "\n",
              "    .dataframe tbody tr th {\n",
              "        vertical-align: top;\n",
              "    }\n",
              "\n",
              "    .dataframe thead th {\n",
              "        text-align: right;\n",
              "    }\n",
              "</style>\n",
              "<table border=\"1\" class=\"dataframe\">\n",
              "  <thead>\n",
              "    <tr style=\"text-align: right;\">\n",
              "      <th></th>\n",
              "      <th>country</th>\n",
              "      <th>website</th>\n",
              "      <th>price</th>\n",
              "    </tr>\n",
              "  </thead>\n",
              "  <tbody>\n",
              "    <tr>\n",
              "      <th>0</th>\n",
              "      <td>Canada</td>\n",
              "      <td>NewEgg</td>\n",
              "      <td>16.5</td>\n",
              "    </tr>\n",
              "    <tr>\n",
              "      <th>1</th>\n",
              "      <td>USA</td>\n",
              "      <td>Amazon</td>\n",
              "      <td>26.8</td>\n",
              "    </tr>\n",
              "    <tr>\n",
              "      <th>2</th>\n",
              "      <td>USA</td>\n",
              "      <td>NewEgg</td>\n",
              "      <td>25.0</td>\n",
              "    </tr>\n",
              "  </tbody>\n",
              "</table>\n",
              "</div>"
            ],
            "text/plain": [
              "  country website  price\n",
              "0  Canada  NewEgg   16.5\n",
              "1     USA  Amazon   26.8\n",
              "2     USA  NewEgg   25.0"
            ]
          },
          "execution_count": 18,
          "metadata": {},
          "output_type": "execute_result"
        }
      ],
      "source": [
        "(pd.merge(df, df2, on='userid').groupby(['country', 'website'], as_index = False)[['price']]\n",
        " .mean() )"
      ]
    },
    {
      "cell_type": "markdown",
      "metadata": {
        "id": "mqtlUWQv3Jkn"
      },
      "source": [
        "### Part 5: The Final Question - A Demo"
      ]
    },
    {
      "cell_type": "markdown",
      "metadata": {
        "id": "8I4y_dgT3Jkn"
      },
      "source": [
        "Let's add another column: purchase date"
      ]
    },
    {
      "cell_type": "code",
      "execution_count": 19,
      "metadata": {
        "colab": {
          "base_uri": "https://localhost:8080/",
          "height": 300
        },
        "id": "k2ElHwoQ3Jko",
        "outputId": "a905a64f-8509-442c-f6f2-cde8c13781d4"
      },
      "outputs": [
        {
          "data": {
            "text/html": [
              "<div>\n",
              "<style scoped>\n",
              "    .dataframe tbody tr th:only-of-type {\n",
              "        vertical-align: middle;\n",
              "    }\n",
              "\n",
              "    .dataframe tbody tr th {\n",
              "        vertical-align: top;\n",
              "    }\n",
              "\n",
              "    .dataframe thead th {\n",
              "        text-align: right;\n",
              "    }\n",
              "</style>\n",
              "<table border=\"1\" class=\"dataframe\">\n",
              "  <thead>\n",
              "    <tr style=\"text-align: right;\">\n",
              "      <th></th>\n",
              "      <th>userid</th>\n",
              "      <th>product</th>\n",
              "      <th>price</th>\n",
              "      <th>website</th>\n",
              "      <th>date</th>\n",
              "    </tr>\n",
              "  </thead>\n",
              "  <tbody>\n",
              "    <tr>\n",
              "      <th>0</th>\n",
              "      <td>123</td>\n",
              "      <td>xt23</td>\n",
              "      <td>20</td>\n",
              "      <td>Amazon</td>\n",
              "      <td>2018-01-12</td>\n",
              "    </tr>\n",
              "    <tr>\n",
              "      <th>1</th>\n",
              "      <td>123</td>\n",
              "      <td>q45</td>\n",
              "      <td>2</td>\n",
              "      <td>Amazon</td>\n",
              "      <td>2018-01-08</td>\n",
              "    </tr>\n",
              "    <tr>\n",
              "      <th>2</th>\n",
              "      <td>123</td>\n",
              "      <td>a89</td>\n",
              "      <td>25</td>\n",
              "      <td>NewEgg</td>\n",
              "      <td>2018-01-06</td>\n",
              "    </tr>\n",
              "    <tr>\n",
              "      <th>3</th>\n",
              "      <td>77</td>\n",
              "      <td>q45</td>\n",
              "      <td>3</td>\n",
              "      <td>NewEgg</td>\n",
              "      <td>2018-01-03</td>\n",
              "    </tr>\n",
              "    <tr>\n",
              "      <th>4</th>\n",
              "      <td>77</td>\n",
              "      <td>a89</td>\n",
              "      <td>30</td>\n",
              "      <td>NewEgg</td>\n",
              "      <td>2018-01-05</td>\n",
              "    </tr>\n",
              "    <tr>\n",
              "      <th>5</th>\n",
              "      <td>92</td>\n",
              "      <td>xt23</td>\n",
              "      <td>24</td>\n",
              "      <td>Amazon</td>\n",
              "      <td>2018-01-04</td>\n",
              "    </tr>\n",
              "    <tr>\n",
              "      <th>6</th>\n",
              "      <td>92</td>\n",
              "      <td>m33</td>\n",
              "      <td>60</td>\n",
              "      <td>Amazon</td>\n",
              "      <td>2018-01-07</td>\n",
              "    </tr>\n",
              "    <tr>\n",
              "      <th>7</th>\n",
              "      <td>92</td>\n",
              "      <td>a89</td>\n",
              "      <td>28</td>\n",
              "      <td>Amazon</td>\n",
              "      <td>2018-01-02</td>\n",
              "    </tr>\n",
              "  </tbody>\n",
              "</table>\n",
              "</div>"
            ],
            "text/plain": [
              "   userid product  price website        date\n",
              "0     123    xt23     20  Amazon  2018-01-12\n",
              "1     123     q45      2  Amazon  2018-01-08\n",
              "2     123     a89     25  NewEgg  2018-01-06\n",
              "3      77     q45      3  NewEgg  2018-01-03\n",
              "4      77     a89     30  NewEgg  2018-01-05\n",
              "5      92    xt23     24  Amazon  2018-01-04\n",
              "6      92     m33     60  Amazon  2018-01-07\n",
              "7      92     a89     28  Amazon  2018-01-02"
            ]
          },
          "execution_count": 19,
          "metadata": {},
          "output_type": "execute_result"
        }
      ],
      "source": [
        "df['date'] = [\n",
        "    '2018-01-12', '2018-01-08', '2018-01-06', '2018-01-03', '2018-01-05',\n",
        "    '2018-01-04', '2018-01-07', '2018-01-02'\n",
        "]\n",
        "df"
      ]
    },
    {
      "cell_type": "markdown",
      "metadata": {
        "id": "A7UJp4Sb3Jko"
      },
      "source": [
        "**Q: Here is a tricky task. For each row, I want the average purchase price for that user prior to that purchase.**\n",
        "\n",
        "One option is to do some loops. But another solution is to perform a \"self-join\" in which a table/dataframe is merged with itself, then filter the result to exclude records with information from the future."
      ]
    },
    {
      "cell_type": "markdown",
      "metadata": {
        "id": "E0ACKub73Jkp"
      },
      "source": [
        "### Movie / Drink Example"
      ]
    },
    {
      "cell_type": "markdown",
      "metadata": {
        "id": "vN9Wn03l3Jkp"
      },
      "source": [
        "But first, quick question:\n",
        "\n",
        "Say you merge (or 'join' if you come from SQL) two dataframes with 3 rows each, how many rows would you end up with?"
      ]
    },
    {
      "cell_type": "markdown",
      "metadata": {
        "id": "9VuqnpLc3Jkp"
      },
      "source": [
        "Could be anything between 0-9."
      ]
    },
    {
      "cell_type": "markdown",
      "metadata": {
        "id": "BqHxTi1H3Jkp"
      },
      "source": [
        "Consider the following examples, where table x has users and the movies they like. And table y has users and the drink they like. And let's do a merge to come up with possible movie and drink pairings for any user. In case A, we get 0 rows, in case B, we get 3 rows and case C we get 9 rows."
      ]
    },
    {
      "cell_type": "markdown",
      "metadata": {
        "id": "V9agl_Mj3Jkp"
      },
      "source": [
        "#### Merge Two Tables with No IDs in Common"
      ]
    },
    {
      "cell_type": "code",
      "execution_count": 21,
      "metadata": {
        "colab": {
          "base_uri": "https://localhost:8080/",
          "height": 143
        },
        "id": "kVRWQwTw3Jkq",
        "outputId": "a03ebf60-9230-4697-ac6b-5db4af09ca03"
      },
      "outputs": [
        {
          "data": {
            "text/html": [
              "<div>\n",
              "<style scoped>\n",
              "    .dataframe tbody tr th:only-of-type {\n",
              "        vertical-align: middle;\n",
              "    }\n",
              "\n",
              "    .dataframe tbody tr th {\n",
              "        vertical-align: top;\n",
              "    }\n",
              "\n",
              "    .dataframe thead th {\n",
              "        text-align: right;\n",
              "    }\n",
              "</style>\n",
              "<table border=\"1\" class=\"dataframe\">\n",
              "  <thead>\n",
              "    <tr style=\"text-align: right;\">\n",
              "      <th></th>\n",
              "      <th>userid</th>\n",
              "      <th>movies</th>\n",
              "    </tr>\n",
              "  </thead>\n",
              "  <tbody>\n",
              "    <tr>\n",
              "      <th>0</th>\n",
              "      <td>1</td>\n",
              "      <td>Godfather</td>\n",
              "    </tr>\n",
              "    <tr>\n",
              "      <th>1</th>\n",
              "      <td>2</td>\n",
              "      <td>Amelie</td>\n",
              "    </tr>\n",
              "    <tr>\n",
              "      <th>2</th>\n",
              "      <td>3</td>\n",
              "      <td>Chicago</td>\n",
              "    </tr>\n",
              "  </tbody>\n",
              "</table>\n",
              "</div>"
            ],
            "text/plain": [
              "   userid     movies\n",
              "0       1  Godfather\n",
              "1       2     Amelie\n",
              "2       3    Chicago"
            ]
          },
          "execution_count": 21,
          "metadata": {},
          "output_type": "execute_result"
        }
      ],
      "source": [
        "dfx = pd.DataFrame(\n",
        "    [[1, 'Godfather'], [2, 'Amelie'], [3, 'Chicago']],\n",
        "    columns=['userid', 'movies'])\n",
        "dfx"
      ]
    },
    {
      "cell_type": "code",
      "execution_count": 28,
      "metadata": {
        "colab": {
          "base_uri": "https://localhost:8080/",
          "height": 143
        },
        "id": "_SEHbShD3Jkq",
        "outputId": "f31c7731-d17e-4213-b2e4-7bb58f3a0e76"
      },
      "outputs": [
        {
          "data": {
            "text/html": [
              "<div>\n",
              "<style scoped>\n",
              "    .dataframe tbody tr th:only-of-type {\n",
              "        vertical-align: middle;\n",
              "    }\n",
              "\n",
              "    .dataframe tbody tr th {\n",
              "        vertical-align: top;\n",
              "    }\n",
              "\n",
              "    .dataframe thead th {\n",
              "        text-align: right;\n",
              "    }\n",
              "</style>\n",
              "<table border=\"1\" class=\"dataframe\">\n",
              "  <thead>\n",
              "    <tr style=\"text-align: right;\">\n",
              "      <th></th>\n",
              "      <th>userid</th>\n",
              "      <th>drink</th>\n",
              "    </tr>\n",
              "  </thead>\n",
              "  <tbody>\n",
              "    <tr>\n",
              "      <th>0</th>\n",
              "      <td>4</td>\n",
              "      <td>Ice Tea</td>\n",
              "    </tr>\n",
              "    <tr>\n",
              "      <th>1</th>\n",
              "      <td>5</td>\n",
              "      <td>Pepsi</td>\n",
              "    </tr>\n",
              "    <tr>\n",
              "      <th>2</th>\n",
              "      <td>6</td>\n",
              "      <td>Sprite</td>\n",
              "    </tr>\n",
              "  </tbody>\n",
              "</table>\n",
              "</div>"
            ],
            "text/plain": [
              "   userid    drink\n",
              "0       4  Ice Tea\n",
              "1       5    Pepsi\n",
              "2       6   Sprite"
            ]
          },
          "execution_count": 28,
          "metadata": {},
          "output_type": "execute_result"
        }
      ],
      "source": [
        "dfy = pd.DataFrame(\n",
        "    [[4, 'Ice Tea'], [5, 'Pepsi'], [6, 'Sprite']], columns=['userid', 'drink'])\n",
        "dfy"
      ]
    },
    {
      "cell_type": "code",
      "execution_count": 23,
      "metadata": {
        "colab": {
          "base_uri": "https://localhost:8080/",
          "height": 49
        },
        "id": "YvXykymK3Jkq",
        "outputId": "7c1e2481-0609-4a97-9633-5af1c9e9690a"
      },
      "outputs": [
        {
          "data": {
            "text/html": [
              "<div>\n",
              "<style scoped>\n",
              "    .dataframe tbody tr th:only-of-type {\n",
              "        vertical-align: middle;\n",
              "    }\n",
              "\n",
              "    .dataframe tbody tr th {\n",
              "        vertical-align: top;\n",
              "    }\n",
              "\n",
              "    .dataframe thead th {\n",
              "        text-align: right;\n",
              "    }\n",
              "</style>\n",
              "<table border=\"1\" class=\"dataframe\">\n",
              "  <thead>\n",
              "    <tr style=\"text-align: right;\">\n",
              "      <th></th>\n",
              "      <th>userid</th>\n",
              "      <th>movies</th>\n",
              "      <th>wines</th>\n",
              "    </tr>\n",
              "  </thead>\n",
              "  <tbody>\n",
              "  </tbody>\n",
              "</table>\n",
              "</div>"
            ],
            "text/plain": [
              "Empty DataFrame\n",
              "Columns: [userid, movies, wines]\n",
              "Index: []"
            ]
          },
          "execution_count": 23,
          "metadata": {},
          "output_type": "execute_result"
        }
      ],
      "source": [
        "dfm = pd.merge(dfx, dfy, on='userid')\n",
        "dfm"
      ]
    },
    {
      "cell_type": "markdown",
      "metadata": {
        "id": "tcYAgOVe3Jkr"
      },
      "source": [
        "#### Merge Two Tables with IDs in Common (1 Value Per ID)"
      ]
    },
    {
      "cell_type": "code",
      "execution_count": 30,
      "metadata": {
        "colab": {
          "base_uri": "https://localhost:8080/",
          "height": 143
        },
        "id": "CWLf2wka3Jkr",
        "outputId": "384da7ed-86a6-40ad-ca98-c2ea80accb01"
      },
      "outputs": [
        {
          "data": {
            "text/html": [
              "<div>\n",
              "<style scoped>\n",
              "    .dataframe tbody tr th:only-of-type {\n",
              "        vertical-align: middle;\n",
              "    }\n",
              "\n",
              "    .dataframe tbody tr th {\n",
              "        vertical-align: top;\n",
              "    }\n",
              "\n",
              "    .dataframe thead th {\n",
              "        text-align: right;\n",
              "    }\n",
              "</style>\n",
              "<table border=\"1\" class=\"dataframe\">\n",
              "  <thead>\n",
              "    <tr style=\"text-align: right;\">\n",
              "      <th></th>\n",
              "      <th>userid</th>\n",
              "      <th>movies</th>\n",
              "    </tr>\n",
              "  </thead>\n",
              "  <tbody>\n",
              "    <tr>\n",
              "      <th>0</th>\n",
              "      <td>1</td>\n",
              "      <td>Godfather</td>\n",
              "    </tr>\n",
              "    <tr>\n",
              "      <th>1</th>\n",
              "      <td>2</td>\n",
              "      <td>Amelie</td>\n",
              "    </tr>\n",
              "    <tr>\n",
              "      <th>2</th>\n",
              "      <td>3</td>\n",
              "      <td>Chicago</td>\n",
              "    </tr>\n",
              "  </tbody>\n",
              "</table>\n",
              "</div>"
            ],
            "text/plain": [
              "   userid     movies\n",
              "0       1  Godfather\n",
              "1       2     Amelie\n",
              "2       3    Chicago"
            ]
          },
          "execution_count": 30,
          "metadata": {},
          "output_type": "execute_result"
        }
      ],
      "source": [
        "dfx = pd.DataFrame(\n",
        "    [[1, 'Godfather'], [2, 'Amelie'], [3, 'Chicago']],\n",
        "    columns=['userid', 'movies'])\n",
        "dfx"
      ]
    },
    {
      "cell_type": "code",
      "execution_count": 31,
      "metadata": {
        "colab": {
          "base_uri": "https://localhost:8080/",
          "height": 143
        },
        "id": "-yhtl4RZ3Jkr",
        "outputId": "8e0dcec4-1c80-4d55-ec8e-2399acbc2a64"
      },
      "outputs": [
        {
          "data": {
            "text/html": [
              "<div>\n",
              "<style scoped>\n",
              "    .dataframe tbody tr th:only-of-type {\n",
              "        vertical-align: middle;\n",
              "    }\n",
              "\n",
              "    .dataframe tbody tr th {\n",
              "        vertical-align: top;\n",
              "    }\n",
              "\n",
              "    .dataframe thead th {\n",
              "        text-align: right;\n",
              "    }\n",
              "</style>\n",
              "<table border=\"1\" class=\"dataframe\">\n",
              "  <thead>\n",
              "    <tr style=\"text-align: right;\">\n",
              "      <th></th>\n",
              "      <th>userid</th>\n",
              "      <th>drink</th>\n",
              "    </tr>\n",
              "  </thead>\n",
              "  <tbody>\n",
              "    <tr>\n",
              "      <th>0</th>\n",
              "      <td>1</td>\n",
              "      <td>Ice Tea</td>\n",
              "    </tr>\n",
              "    <tr>\n",
              "      <th>1</th>\n",
              "      <td>2</td>\n",
              "      <td>Pepsi</td>\n",
              "    </tr>\n",
              "    <tr>\n",
              "      <th>2</th>\n",
              "      <td>3</td>\n",
              "      <td>Sprite</td>\n",
              "    </tr>\n",
              "  </tbody>\n",
              "</table>\n",
              "</div>"
            ],
            "text/plain": [
              "   userid    drink\n",
              "0       1  Ice Tea\n",
              "1       2    Pepsi\n",
              "2       3   Sprite"
            ]
          },
          "execution_count": 31,
          "metadata": {},
          "output_type": "execute_result"
        }
      ],
      "source": [
        "dfy = pd.DataFrame(\n",
        "    [[1, 'Ice Tea'], [2, 'Pepsi'], [3, 'Sprite']], columns=['userid', 'drink'])\n",
        "dfy"
      ]
    },
    {
      "cell_type": "code",
      "execution_count": 32,
      "metadata": {
        "colab": {
          "base_uri": "https://localhost:8080/",
          "height": 143
        },
        "id": "G6btxF2E3Jkr",
        "outputId": "74ff3cc5-a0ca-4670-a8f2-471a680f1ed1"
      },
      "outputs": [
        {
          "data": {
            "text/html": [
              "<div>\n",
              "<style scoped>\n",
              "    .dataframe tbody tr th:only-of-type {\n",
              "        vertical-align: middle;\n",
              "    }\n",
              "\n",
              "    .dataframe tbody tr th {\n",
              "        vertical-align: top;\n",
              "    }\n",
              "\n",
              "    .dataframe thead th {\n",
              "        text-align: right;\n",
              "    }\n",
              "</style>\n",
              "<table border=\"1\" class=\"dataframe\">\n",
              "  <thead>\n",
              "    <tr style=\"text-align: right;\">\n",
              "      <th></th>\n",
              "      <th>userid</th>\n",
              "      <th>movies</th>\n",
              "      <th>drink</th>\n",
              "    </tr>\n",
              "  </thead>\n",
              "  <tbody>\n",
              "    <tr>\n",
              "      <th>0</th>\n",
              "      <td>1</td>\n",
              "      <td>Godfather</td>\n",
              "      <td>Ice Tea</td>\n",
              "    </tr>\n",
              "    <tr>\n",
              "      <th>1</th>\n",
              "      <td>2</td>\n",
              "      <td>Amelie</td>\n",
              "      <td>Pepsi</td>\n",
              "    </tr>\n",
              "    <tr>\n",
              "      <th>2</th>\n",
              "      <td>3</td>\n",
              "      <td>Chicago</td>\n",
              "      <td>Sprite</td>\n",
              "    </tr>\n",
              "  </tbody>\n",
              "</table>\n",
              "</div>"
            ],
            "text/plain": [
              "   userid     movies    drink\n",
              "0       1  Godfather  Ice Tea\n",
              "1       2     Amelie    Pepsi\n",
              "2       3    Chicago   Sprite"
            ]
          },
          "execution_count": 32,
          "metadata": {},
          "output_type": "execute_result"
        }
      ],
      "source": [
        "dfm = pd.merge(dfx, dfy, on='userid')\n",
        "dfm"
      ]
    },
    {
      "cell_type": "markdown",
      "metadata": {
        "id": "YG5201uw3Jks"
      },
      "source": [
        "#### Merge Two Tables with IDs in Common (Multiple Values Per ID)"
      ]
    },
    {
      "cell_type": "code",
      "execution_count": 33,
      "metadata": {
        "colab": {
          "base_uri": "https://localhost:8080/",
          "height": 143
        },
        "id": "Y9DsEqHU3Jks",
        "outputId": "9598890d-3d40-4110-8c5a-a75e7a41baa7"
      },
      "outputs": [
        {
          "data": {
            "text/html": [
              "<div>\n",
              "<style scoped>\n",
              "    .dataframe tbody tr th:only-of-type {\n",
              "        vertical-align: middle;\n",
              "    }\n",
              "\n",
              "    .dataframe tbody tr th {\n",
              "        vertical-align: top;\n",
              "    }\n",
              "\n",
              "    .dataframe thead th {\n",
              "        text-align: right;\n",
              "    }\n",
              "</style>\n",
              "<table border=\"1\" class=\"dataframe\">\n",
              "  <thead>\n",
              "    <tr style=\"text-align: right;\">\n",
              "      <th></th>\n",
              "      <th>userid</th>\n",
              "      <th>movies</th>\n",
              "    </tr>\n",
              "  </thead>\n",
              "  <tbody>\n",
              "    <tr>\n",
              "      <th>0</th>\n",
              "      <td>1</td>\n",
              "      <td>Godfather</td>\n",
              "    </tr>\n",
              "    <tr>\n",
              "      <th>1</th>\n",
              "      <td>1</td>\n",
              "      <td>Amelie</td>\n",
              "    </tr>\n",
              "    <tr>\n",
              "      <th>2</th>\n",
              "      <td>1</td>\n",
              "      <td>Chicago</td>\n",
              "    </tr>\n",
              "  </tbody>\n",
              "</table>\n",
              "</div>"
            ],
            "text/plain": [
              "   userid     movies\n",
              "0       1  Godfather\n",
              "1       1     Amelie\n",
              "2       1    Chicago"
            ]
          },
          "execution_count": 33,
          "metadata": {},
          "output_type": "execute_result"
        }
      ],
      "source": [
        "dfx = pd.DataFrame(\n",
        "    [[1, 'Godfather'], [1, 'Amelie'], [1, 'Chicago']],\n",
        "    columns=['userid', 'movies'])\n",
        "dfx"
      ]
    },
    {
      "cell_type": "code",
      "execution_count": 34,
      "metadata": {
        "colab": {
          "base_uri": "https://localhost:8080/",
          "height": 143
        },
        "id": "Y7dtk7EH3Jks",
        "outputId": "df7d31d5-4e81-43ab-f4ae-c81e26049000"
      },
      "outputs": [
        {
          "data": {
            "text/html": [
              "<div>\n",
              "<style scoped>\n",
              "    .dataframe tbody tr th:only-of-type {\n",
              "        vertical-align: middle;\n",
              "    }\n",
              "\n",
              "    .dataframe tbody tr th {\n",
              "        vertical-align: top;\n",
              "    }\n",
              "\n",
              "    .dataframe thead th {\n",
              "        text-align: right;\n",
              "    }\n",
              "</style>\n",
              "<table border=\"1\" class=\"dataframe\">\n",
              "  <thead>\n",
              "    <tr style=\"text-align: right;\">\n",
              "      <th></th>\n",
              "      <th>userid</th>\n",
              "      <th>drink</th>\n",
              "    </tr>\n",
              "  </thead>\n",
              "  <tbody>\n",
              "    <tr>\n",
              "      <th>0</th>\n",
              "      <td>1</td>\n",
              "      <td>Ice Tea</td>\n",
              "    </tr>\n",
              "    <tr>\n",
              "      <th>1</th>\n",
              "      <td>1</td>\n",
              "      <td>Pepsi</td>\n",
              "    </tr>\n",
              "    <tr>\n",
              "      <th>2</th>\n",
              "      <td>1</td>\n",
              "      <td>Sprite</td>\n",
              "    </tr>\n",
              "  </tbody>\n",
              "</table>\n",
              "</div>"
            ],
            "text/plain": [
              "   userid    drink\n",
              "0       1  Ice Tea\n",
              "1       1    Pepsi\n",
              "2       1   Sprite"
            ]
          },
          "execution_count": 34,
          "metadata": {},
          "output_type": "execute_result"
        }
      ],
      "source": [
        "dfy = pd.DataFrame(\n",
        "    [[1, 'Ice Tea'], [1, 'Pepsi'], [1, 'Sprite']], columns=['userid', 'drink'])\n",
        "dfy"
      ]
    },
    {
      "cell_type": "code",
      "execution_count": 35,
      "metadata": {
        "colab": {
          "base_uri": "https://localhost:8080/",
          "height": 331
        },
        "id": "jQ9UyAmN3Jkt",
        "outputId": "fc67cf6a-de6d-499f-9dec-5719ce11888d"
      },
      "outputs": [
        {
          "data": {
            "text/html": [
              "<div>\n",
              "<style scoped>\n",
              "    .dataframe tbody tr th:only-of-type {\n",
              "        vertical-align: middle;\n",
              "    }\n",
              "\n",
              "    .dataframe tbody tr th {\n",
              "        vertical-align: top;\n",
              "    }\n",
              "\n",
              "    .dataframe thead th {\n",
              "        text-align: right;\n",
              "    }\n",
              "</style>\n",
              "<table border=\"1\" class=\"dataframe\">\n",
              "  <thead>\n",
              "    <tr style=\"text-align: right;\">\n",
              "      <th></th>\n",
              "      <th>userid</th>\n",
              "      <th>movies</th>\n",
              "      <th>drink</th>\n",
              "    </tr>\n",
              "  </thead>\n",
              "  <tbody>\n",
              "    <tr>\n",
              "      <th>0</th>\n",
              "      <td>1</td>\n",
              "      <td>Godfather</td>\n",
              "      <td>Ice Tea</td>\n",
              "    </tr>\n",
              "    <tr>\n",
              "      <th>1</th>\n",
              "      <td>1</td>\n",
              "      <td>Godfather</td>\n",
              "      <td>Pepsi</td>\n",
              "    </tr>\n",
              "    <tr>\n",
              "      <th>2</th>\n",
              "      <td>1</td>\n",
              "      <td>Godfather</td>\n",
              "      <td>Sprite</td>\n",
              "    </tr>\n",
              "    <tr>\n",
              "      <th>3</th>\n",
              "      <td>1</td>\n",
              "      <td>Amelie</td>\n",
              "      <td>Ice Tea</td>\n",
              "    </tr>\n",
              "    <tr>\n",
              "      <th>4</th>\n",
              "      <td>1</td>\n",
              "      <td>Amelie</td>\n",
              "      <td>Pepsi</td>\n",
              "    </tr>\n",
              "    <tr>\n",
              "      <th>5</th>\n",
              "      <td>1</td>\n",
              "      <td>Amelie</td>\n",
              "      <td>Sprite</td>\n",
              "    </tr>\n",
              "    <tr>\n",
              "      <th>6</th>\n",
              "      <td>1</td>\n",
              "      <td>Chicago</td>\n",
              "      <td>Ice Tea</td>\n",
              "    </tr>\n",
              "    <tr>\n",
              "      <th>7</th>\n",
              "      <td>1</td>\n",
              "      <td>Chicago</td>\n",
              "      <td>Pepsi</td>\n",
              "    </tr>\n",
              "    <tr>\n",
              "      <th>8</th>\n",
              "      <td>1</td>\n",
              "      <td>Chicago</td>\n",
              "      <td>Sprite</td>\n",
              "    </tr>\n",
              "  </tbody>\n",
              "</table>\n",
              "</div>"
            ],
            "text/plain": [
              "   userid     movies    drink\n",
              "0       1  Godfather  Ice Tea\n",
              "1       1  Godfather    Pepsi\n",
              "2       1  Godfather   Sprite\n",
              "3       1     Amelie  Ice Tea\n",
              "4       1     Amelie    Pepsi\n",
              "5       1     Amelie   Sprite\n",
              "6       1    Chicago  Ice Tea\n",
              "7       1    Chicago    Pepsi\n",
              "8       1    Chicago   Sprite"
            ]
          },
          "execution_count": 35,
          "metadata": {},
          "output_type": "execute_result"
        }
      ],
      "source": [
        "dfm = pd.merge(dfx, dfy, on='userid')\n",
        "dfm"
      ]
    },
    {
      "cell_type": "markdown",
      "metadata": {
        "id": "OpSGKsG73Jkt"
      },
      "source": [
        "### Back to the Question"
      ]
    },
    {
      "cell_type": "markdown",
      "metadata": {
        "id": "giNKaMRE3Jkt"
      },
      "source": [
        "Now let's return to the original question: For each row, I want the average purchase price for that user prior to that purchase. Let's do a merge on itself and filter."
      ]
    },
    {
      "cell_type": "markdown",
      "metadata": {
        "id": "24U89Tst3Jkt"
      },
      "source": [
        "Here are the steps we're going to take:\n",
        "1. **MERGE**: Join table on itself. For each userid / date combo, show me all userid / date / price combos.\n",
        "1. **FILTER**: For each userid / date combo, keep only the userid / date / price combos that were from earlier. Filter everything else out.\n",
        "1. **AGGREGATE**: For each userid / date combo, find the average price for the remaining rows.\n",
        "1. **MERGE**: Combine these values with the original dataframe for the final result.\n",
        "1. **SORT**: Sort to make the results look pretty."
      ]
    },
    {
      "cell_type": "markdown",
      "metadata": {
        "id": "Ys19KG0H3Jku"
      },
      "source": [
        "#### MERGE: Join table on itself. For each userid / date combo, show me all userid / date / price combos."
      ]
    },
    {
      "cell_type": "code",
      "execution_count": 40,
      "metadata": {
        "colab": {
          "base_uri": "https://localhost:8080/",
          "height": 300
        },
        "id": "ovluiDfX3Jku",
        "outputId": "ff066efe-74d0-418f-dc7e-70375ae4f367"
      },
      "outputs": [
        {
          "data": {
            "text/html": [
              "<div>\n",
              "<style scoped>\n",
              "    .dataframe tbody tr th:only-of-type {\n",
              "        vertical-align: middle;\n",
              "    }\n",
              "\n",
              "    .dataframe tbody tr th {\n",
              "        vertical-align: top;\n",
              "    }\n",
              "\n",
              "    .dataframe thead th {\n",
              "        text-align: right;\n",
              "    }\n",
              "</style>\n",
              "<table border=\"1\" class=\"dataframe\">\n",
              "  <thead>\n",
              "    <tr style=\"text-align: right;\">\n",
              "      <th></th>\n",
              "      <th>userid</th>\n",
              "      <th>date</th>\n",
              "    </tr>\n",
              "  </thead>\n",
              "  <tbody>\n",
              "    <tr>\n",
              "      <th>0</th>\n",
              "      <td>123</td>\n",
              "      <td>2018-01-12</td>\n",
              "    </tr>\n",
              "    <tr>\n",
              "      <th>1</th>\n",
              "      <td>123</td>\n",
              "      <td>2018-01-08</td>\n",
              "    </tr>\n",
              "    <tr>\n",
              "      <th>2</th>\n",
              "      <td>123</td>\n",
              "      <td>2018-01-06</td>\n",
              "    </tr>\n",
              "    <tr>\n",
              "      <th>3</th>\n",
              "      <td>77</td>\n",
              "      <td>2018-01-03</td>\n",
              "    </tr>\n",
              "    <tr>\n",
              "      <th>4</th>\n",
              "      <td>77</td>\n",
              "      <td>2018-01-05</td>\n",
              "    </tr>\n",
              "    <tr>\n",
              "      <th>5</th>\n",
              "      <td>92</td>\n",
              "      <td>2018-01-04</td>\n",
              "    </tr>\n",
              "    <tr>\n",
              "      <th>6</th>\n",
              "      <td>92</td>\n",
              "      <td>2018-01-07</td>\n",
              "    </tr>\n",
              "    <tr>\n",
              "      <th>7</th>\n",
              "      <td>92</td>\n",
              "      <td>2018-01-02</td>\n",
              "    </tr>\n",
              "  </tbody>\n",
              "</table>\n",
              "</div>"
            ],
            "text/plain": [
              "   userid        date\n",
              "0     123  2018-01-12\n",
              "1     123  2018-01-08\n",
              "2     123  2018-01-06\n",
              "3      77  2018-01-03\n",
              "4      77  2018-01-05\n",
              "5      92  2018-01-04\n",
              "6      92  2018-01-07\n",
              "7      92  2018-01-02"
            ]
          },
          "execution_count": 40,
          "metadata": {},
          "output_type": "execute_result"
        }
      ],
      "source": [
        "df_date = df[['userid', 'date']]\n",
        "df_date"
      ]
    },
    {
      "cell_type": "code",
      "execution_count": 41,
      "metadata": {
        "colab": {
          "base_uri": "https://localhost:8080/",
          "height": 300
        },
        "id": "gRSjjQco3Jku",
        "outputId": "9b0c8d5f-6636-4b42-dbc3-554f56ee7dd9"
      },
      "outputs": [
        {
          "data": {
            "text/html": [
              "<div>\n",
              "<style scoped>\n",
              "    .dataframe tbody tr th:only-of-type {\n",
              "        vertical-align: middle;\n",
              "    }\n",
              "\n",
              "    .dataframe tbody tr th {\n",
              "        vertical-align: top;\n",
              "    }\n",
              "\n",
              "    .dataframe thead th {\n",
              "        text-align: right;\n",
              "    }\n",
              "</style>\n",
              "<table border=\"1\" class=\"dataframe\">\n",
              "  <thead>\n",
              "    <tr style=\"text-align: right;\">\n",
              "      <th></th>\n",
              "      <th>userid</th>\n",
              "      <th>price</th>\n",
              "      <th>date</th>\n",
              "    </tr>\n",
              "  </thead>\n",
              "  <tbody>\n",
              "    <tr>\n",
              "      <th>0</th>\n",
              "      <td>123</td>\n",
              "      <td>20</td>\n",
              "      <td>2018-01-12</td>\n",
              "    </tr>\n",
              "    <tr>\n",
              "      <th>1</th>\n",
              "      <td>123</td>\n",
              "      <td>2</td>\n",
              "      <td>2018-01-08</td>\n",
              "    </tr>\n",
              "    <tr>\n",
              "      <th>2</th>\n",
              "      <td>123</td>\n",
              "      <td>25</td>\n",
              "      <td>2018-01-06</td>\n",
              "    </tr>\n",
              "    <tr>\n",
              "      <th>3</th>\n",
              "      <td>77</td>\n",
              "      <td>3</td>\n",
              "      <td>2018-01-03</td>\n",
              "    </tr>\n",
              "    <tr>\n",
              "      <th>4</th>\n",
              "      <td>77</td>\n",
              "      <td>30</td>\n",
              "      <td>2018-01-05</td>\n",
              "    </tr>\n",
              "    <tr>\n",
              "      <th>5</th>\n",
              "      <td>92</td>\n",
              "      <td>24</td>\n",
              "      <td>2018-01-04</td>\n",
              "    </tr>\n",
              "    <tr>\n",
              "      <th>6</th>\n",
              "      <td>92</td>\n",
              "      <td>60</td>\n",
              "      <td>2018-01-07</td>\n",
              "    </tr>\n",
              "    <tr>\n",
              "      <th>7</th>\n",
              "      <td>92</td>\n",
              "      <td>28</td>\n",
              "      <td>2018-01-02</td>\n",
              "    </tr>\n",
              "  </tbody>\n",
              "</table>\n",
              "</div>"
            ],
            "text/plain": [
              "   userid  price        date\n",
              "0     123     20  2018-01-12\n",
              "1     123      2  2018-01-08\n",
              "2     123     25  2018-01-06\n",
              "3      77      3  2018-01-03\n",
              "4      77     30  2018-01-05\n",
              "5      92     24  2018-01-04\n",
              "6      92     60  2018-01-07\n",
              "7      92     28  2018-01-02"
            ]
          },
          "execution_count": 41,
          "metadata": {},
          "output_type": "execute_result"
        }
      ],
      "source": [
        "df_all = df[['userid', 'price', 'date']]\n",
        "df_all"
      ]
    },
    {
      "cell_type": "code",
      "execution_count": 42,
      "metadata": {
        "colab": {
          "base_uri": "https://localhost:8080/",
          "height": 739
        },
        "id": "zNed5dnS3Jkv",
        "outputId": "b2a3792e-c34d-4666-fc2d-205d73c76fd6"
      },
      "outputs": [
        {
          "data": {
            "text/html": [
              "<div>\n",
              "<style scoped>\n",
              "    .dataframe tbody tr th:only-of-type {\n",
              "        vertical-align: middle;\n",
              "    }\n",
              "\n",
              "    .dataframe tbody tr th {\n",
              "        vertical-align: top;\n",
              "    }\n",
              "\n",
              "    .dataframe thead th {\n",
              "        text-align: right;\n",
              "    }\n",
              "</style>\n",
              "<table border=\"1\" class=\"dataframe\">\n",
              "  <thead>\n",
              "    <tr style=\"text-align: right;\">\n",
              "      <th></th>\n",
              "      <th>userid</th>\n",
              "      <th>date_x</th>\n",
              "      <th>price</th>\n",
              "      <th>date_y</th>\n",
              "    </tr>\n",
              "  </thead>\n",
              "  <tbody>\n",
              "    <tr>\n",
              "      <th>0</th>\n",
              "      <td>123</td>\n",
              "      <td>2018-01-12</td>\n",
              "      <td>20</td>\n",
              "      <td>2018-01-12</td>\n",
              "    </tr>\n",
              "    <tr>\n",
              "      <th>1</th>\n",
              "      <td>123</td>\n",
              "      <td>2018-01-12</td>\n",
              "      <td>2</td>\n",
              "      <td>2018-01-08</td>\n",
              "    </tr>\n",
              "    <tr>\n",
              "      <th>2</th>\n",
              "      <td>123</td>\n",
              "      <td>2018-01-12</td>\n",
              "      <td>25</td>\n",
              "      <td>2018-01-06</td>\n",
              "    </tr>\n",
              "    <tr>\n",
              "      <th>3</th>\n",
              "      <td>123</td>\n",
              "      <td>2018-01-08</td>\n",
              "      <td>20</td>\n",
              "      <td>2018-01-12</td>\n",
              "    </tr>\n",
              "    <tr>\n",
              "      <th>4</th>\n",
              "      <td>123</td>\n",
              "      <td>2018-01-08</td>\n",
              "      <td>2</td>\n",
              "      <td>2018-01-08</td>\n",
              "    </tr>\n",
              "    <tr>\n",
              "      <th>5</th>\n",
              "      <td>123</td>\n",
              "      <td>2018-01-08</td>\n",
              "      <td>25</td>\n",
              "      <td>2018-01-06</td>\n",
              "    </tr>\n",
              "    <tr>\n",
              "      <th>6</th>\n",
              "      <td>123</td>\n",
              "      <td>2018-01-06</td>\n",
              "      <td>20</td>\n",
              "      <td>2018-01-12</td>\n",
              "    </tr>\n",
              "    <tr>\n",
              "      <th>7</th>\n",
              "      <td>123</td>\n",
              "      <td>2018-01-06</td>\n",
              "      <td>2</td>\n",
              "      <td>2018-01-08</td>\n",
              "    </tr>\n",
              "    <tr>\n",
              "      <th>8</th>\n",
              "      <td>123</td>\n",
              "      <td>2018-01-06</td>\n",
              "      <td>25</td>\n",
              "      <td>2018-01-06</td>\n",
              "    </tr>\n",
              "    <tr>\n",
              "      <th>9</th>\n",
              "      <td>77</td>\n",
              "      <td>2018-01-03</td>\n",
              "      <td>3</td>\n",
              "      <td>2018-01-03</td>\n",
              "    </tr>\n",
              "    <tr>\n",
              "      <th>10</th>\n",
              "      <td>77</td>\n",
              "      <td>2018-01-03</td>\n",
              "      <td>30</td>\n",
              "      <td>2018-01-05</td>\n",
              "    </tr>\n",
              "    <tr>\n",
              "      <th>11</th>\n",
              "      <td>77</td>\n",
              "      <td>2018-01-05</td>\n",
              "      <td>3</td>\n",
              "      <td>2018-01-03</td>\n",
              "    </tr>\n",
              "    <tr>\n",
              "      <th>12</th>\n",
              "      <td>77</td>\n",
              "      <td>2018-01-05</td>\n",
              "      <td>30</td>\n",
              "      <td>2018-01-05</td>\n",
              "    </tr>\n",
              "    <tr>\n",
              "      <th>13</th>\n",
              "      <td>92</td>\n",
              "      <td>2018-01-04</td>\n",
              "      <td>24</td>\n",
              "      <td>2018-01-04</td>\n",
              "    </tr>\n",
              "    <tr>\n",
              "      <th>14</th>\n",
              "      <td>92</td>\n",
              "      <td>2018-01-04</td>\n",
              "      <td>60</td>\n",
              "      <td>2018-01-07</td>\n",
              "    </tr>\n",
              "    <tr>\n",
              "      <th>15</th>\n",
              "      <td>92</td>\n",
              "      <td>2018-01-04</td>\n",
              "      <td>28</td>\n",
              "      <td>2018-01-02</td>\n",
              "    </tr>\n",
              "    <tr>\n",
              "      <th>16</th>\n",
              "      <td>92</td>\n",
              "      <td>2018-01-07</td>\n",
              "      <td>24</td>\n",
              "      <td>2018-01-04</td>\n",
              "    </tr>\n",
              "    <tr>\n",
              "      <th>17</th>\n",
              "      <td>92</td>\n",
              "      <td>2018-01-07</td>\n",
              "      <td>60</td>\n",
              "      <td>2018-01-07</td>\n",
              "    </tr>\n",
              "    <tr>\n",
              "      <th>18</th>\n",
              "      <td>92</td>\n",
              "      <td>2018-01-07</td>\n",
              "      <td>28</td>\n",
              "      <td>2018-01-02</td>\n",
              "    </tr>\n",
              "    <tr>\n",
              "      <th>19</th>\n",
              "      <td>92</td>\n",
              "      <td>2018-01-02</td>\n",
              "      <td>24</td>\n",
              "      <td>2018-01-04</td>\n",
              "    </tr>\n",
              "    <tr>\n",
              "      <th>20</th>\n",
              "      <td>92</td>\n",
              "      <td>2018-01-02</td>\n",
              "      <td>60</td>\n",
              "      <td>2018-01-07</td>\n",
              "    </tr>\n",
              "    <tr>\n",
              "      <th>21</th>\n",
              "      <td>92</td>\n",
              "      <td>2018-01-02</td>\n",
              "      <td>28</td>\n",
              "      <td>2018-01-02</td>\n",
              "    </tr>\n",
              "  </tbody>\n",
              "</table>\n",
              "</div>"
            ],
            "text/plain": [
              "    userid      date_x  price      date_y\n",
              "0      123  2018-01-12     20  2018-01-12\n",
              "1      123  2018-01-12      2  2018-01-08\n",
              "2      123  2018-01-12     25  2018-01-06\n",
              "3      123  2018-01-08     20  2018-01-12\n",
              "4      123  2018-01-08      2  2018-01-08\n",
              "5      123  2018-01-08     25  2018-01-06\n",
              "6      123  2018-01-06     20  2018-01-12\n",
              "7      123  2018-01-06      2  2018-01-08\n",
              "8      123  2018-01-06     25  2018-01-06\n",
              "9       77  2018-01-03      3  2018-01-03\n",
              "10      77  2018-01-03     30  2018-01-05\n",
              "11      77  2018-01-05      3  2018-01-03\n",
              "12      77  2018-01-05     30  2018-01-05\n",
              "13      92  2018-01-04     24  2018-01-04\n",
              "14      92  2018-01-04     60  2018-01-07\n",
              "15      92  2018-01-04     28  2018-01-02\n",
              "16      92  2018-01-07     24  2018-01-04\n",
              "17      92  2018-01-07     60  2018-01-07\n",
              "18      92  2018-01-07     28  2018-01-02\n",
              "19      92  2018-01-02     24  2018-01-04\n",
              "20      92  2018-01-02     60  2018-01-07\n",
              "21      92  2018-01-02     28  2018-01-02"
            ]
          },
          "execution_count": 42,
          "metadata": {},
          "output_type": "execute_result"
        }
      ],
      "source": [
        "df2 = pd.merge(df_date, df_all, on='userid')\n",
        "df2"
      ]
    },
    {
      "cell_type": "markdown",
      "metadata": {
        "id": "MhZXQulE3Jkv"
      },
      "source": [
        "#### FILTER: For each userid / date combo, keep only the userid / date / price combos that were from earlier. Filter everything else out."
      ]
    },
    {
      "cell_type": "code",
      "execution_count": 43,
      "metadata": {
        "colab": {
          "base_uri": "https://localhost:8080/",
          "height": 269
        },
        "id": "6kFRxjfI3Jkv",
        "outputId": "ffcd9a3c-f03d-4611-fb71-1923b60befc5"
      },
      "outputs": [
        {
          "data": {
            "text/html": [
              "<div>\n",
              "<style scoped>\n",
              "    .dataframe tbody tr th:only-of-type {\n",
              "        vertical-align: middle;\n",
              "    }\n",
              "\n",
              "    .dataframe tbody tr th {\n",
              "        vertical-align: top;\n",
              "    }\n",
              "\n",
              "    .dataframe thead th {\n",
              "        text-align: right;\n",
              "    }\n",
              "</style>\n",
              "<table border=\"1\" class=\"dataframe\">\n",
              "  <thead>\n",
              "    <tr style=\"text-align: right;\">\n",
              "      <th></th>\n",
              "      <th>userid</th>\n",
              "      <th>date_x</th>\n",
              "      <th>price</th>\n",
              "      <th>date_y</th>\n",
              "    </tr>\n",
              "  </thead>\n",
              "  <tbody>\n",
              "    <tr>\n",
              "      <th>1</th>\n",
              "      <td>123</td>\n",
              "      <td>2018-01-12</td>\n",
              "      <td>2</td>\n",
              "      <td>2018-01-08</td>\n",
              "    </tr>\n",
              "    <tr>\n",
              "      <th>2</th>\n",
              "      <td>123</td>\n",
              "      <td>2018-01-12</td>\n",
              "      <td>25</td>\n",
              "      <td>2018-01-06</td>\n",
              "    </tr>\n",
              "    <tr>\n",
              "      <th>5</th>\n",
              "      <td>123</td>\n",
              "      <td>2018-01-08</td>\n",
              "      <td>25</td>\n",
              "      <td>2018-01-06</td>\n",
              "    </tr>\n",
              "    <tr>\n",
              "      <th>11</th>\n",
              "      <td>77</td>\n",
              "      <td>2018-01-05</td>\n",
              "      <td>3</td>\n",
              "      <td>2018-01-03</td>\n",
              "    </tr>\n",
              "    <tr>\n",
              "      <th>15</th>\n",
              "      <td>92</td>\n",
              "      <td>2018-01-04</td>\n",
              "      <td>28</td>\n",
              "      <td>2018-01-02</td>\n",
              "    </tr>\n",
              "    <tr>\n",
              "      <th>16</th>\n",
              "      <td>92</td>\n",
              "      <td>2018-01-07</td>\n",
              "      <td>24</td>\n",
              "      <td>2018-01-04</td>\n",
              "    </tr>\n",
              "    <tr>\n",
              "      <th>18</th>\n",
              "      <td>92</td>\n",
              "      <td>2018-01-07</td>\n",
              "      <td>28</td>\n",
              "      <td>2018-01-02</td>\n",
              "    </tr>\n",
              "  </tbody>\n",
              "</table>\n",
              "</div>"
            ],
            "text/plain": [
              "    userid      date_x  price      date_y\n",
              "1      123  2018-01-12      2  2018-01-08\n",
              "2      123  2018-01-12     25  2018-01-06\n",
              "5      123  2018-01-08     25  2018-01-06\n",
              "11      77  2018-01-05      3  2018-01-03\n",
              "15      92  2018-01-04     28  2018-01-02\n",
              "16      92  2018-01-07     24  2018-01-04\n",
              "18      92  2018-01-07     28  2018-01-02"
            ]
          },
          "execution_count": 43,
          "metadata": {},
          "output_type": "execute_result"
        }
      ],
      "source": [
        "df3 = df2[df2['date_x'] > df2['date_y']]\n",
        "df3"
      ]
    },
    {
      "cell_type": "markdown",
      "metadata": {
        "id": "lyiT45q63Jkv"
      },
      "source": [
        "#### **AGGREGATE**: For each userid / date combo, find the average price for the remaining rows."
      ]
    },
    {
      "cell_type": "code",
      "execution_count": 44,
      "metadata": {
        "colab": {
          "base_uri": "https://localhost:8080/",
          "height": 206
        },
        "id": "giULX9jE3Jkw",
        "outputId": "3c1e9e19-6a90-4252-99df-2be764ae7387"
      },
      "outputs": [
        {
          "data": {
            "text/html": [
              "<div>\n",
              "<style scoped>\n",
              "    .dataframe tbody tr th:only-of-type {\n",
              "        vertical-align: middle;\n",
              "    }\n",
              "\n",
              "    .dataframe tbody tr th {\n",
              "        vertical-align: top;\n",
              "    }\n",
              "\n",
              "    .dataframe thead th {\n",
              "        text-align: right;\n",
              "    }\n",
              "</style>\n",
              "<table border=\"1\" class=\"dataframe\">\n",
              "  <thead>\n",
              "    <tr style=\"text-align: right;\">\n",
              "      <th></th>\n",
              "      <th>userid</th>\n",
              "      <th>date_x</th>\n",
              "      <th>avg_prior_price</th>\n",
              "    </tr>\n",
              "  </thead>\n",
              "  <tbody>\n",
              "    <tr>\n",
              "      <th>0</th>\n",
              "      <td>77</td>\n",
              "      <td>2018-01-05</td>\n",
              "      <td>3.0</td>\n",
              "    </tr>\n",
              "    <tr>\n",
              "      <th>1</th>\n",
              "      <td>92</td>\n",
              "      <td>2018-01-04</td>\n",
              "      <td>28.0</td>\n",
              "    </tr>\n",
              "    <tr>\n",
              "      <th>2</th>\n",
              "      <td>92</td>\n",
              "      <td>2018-01-07</td>\n",
              "      <td>26.0</td>\n",
              "    </tr>\n",
              "    <tr>\n",
              "      <th>3</th>\n",
              "      <td>123</td>\n",
              "      <td>2018-01-08</td>\n",
              "      <td>25.0</td>\n",
              "    </tr>\n",
              "    <tr>\n",
              "      <th>4</th>\n",
              "      <td>123</td>\n",
              "      <td>2018-01-12</td>\n",
              "      <td>13.5</td>\n",
              "    </tr>\n",
              "  </tbody>\n",
              "</table>\n",
              "</div>"
            ],
            "text/plain": [
              "   userid      date_x  avg_prior_price\n",
              "0      77  2018-01-05              3.0\n",
              "1      92  2018-01-04             28.0\n",
              "2      92  2018-01-07             26.0\n",
              "3     123  2018-01-08             25.0\n",
              "4     123  2018-01-12             13.5"
            ]
          },
          "execution_count": 44,
          "metadata": {},
          "output_type": "execute_result"
        }
      ],
      "source": [
        "df4 = df3.groupby(['userid', 'date_x'], as_index=False)[['price']].mean()\n",
        "df4.rename(columns={'price': 'avg_prior_price'}, inplace=True)\n",
        "df4"
      ]
    },
    {
      "cell_type": "markdown",
      "metadata": {
        "id": "EJIF5KDy3Jkw"
      },
      "source": [
        "#### **MERGE**: Combine these values with the original dataframe for the final result."
      ]
    },
    {
      "cell_type": "code",
      "execution_count": 45,
      "metadata": {
        "colab": {
          "base_uri": "https://localhost:8080/",
          "height": 300
        },
        "id": "s286aQD43Jkw",
        "outputId": "17c111f3-3cb8-4985-fe79-224ee8cba981"
      },
      "outputs": [
        {
          "data": {
            "text/html": [
              "<div>\n",
              "<style scoped>\n",
              "    .dataframe tbody tr th:only-of-type {\n",
              "        vertical-align: middle;\n",
              "    }\n",
              "\n",
              "    .dataframe tbody tr th {\n",
              "        vertical-align: top;\n",
              "    }\n",
              "\n",
              "    .dataframe thead th {\n",
              "        text-align: right;\n",
              "    }\n",
              "</style>\n",
              "<table border=\"1\" class=\"dataframe\">\n",
              "  <thead>\n",
              "    <tr style=\"text-align: right;\">\n",
              "      <th></th>\n",
              "      <th>userid</th>\n",
              "      <th>product</th>\n",
              "      <th>price</th>\n",
              "      <th>website</th>\n",
              "      <th>date</th>\n",
              "    </tr>\n",
              "  </thead>\n",
              "  <tbody>\n",
              "    <tr>\n",
              "      <th>0</th>\n",
              "      <td>123</td>\n",
              "      <td>xt23</td>\n",
              "      <td>20</td>\n",
              "      <td>Amazon</td>\n",
              "      <td>2018-01-12</td>\n",
              "    </tr>\n",
              "    <tr>\n",
              "      <th>1</th>\n",
              "      <td>123</td>\n",
              "      <td>q45</td>\n",
              "      <td>2</td>\n",
              "      <td>Amazon</td>\n",
              "      <td>2018-01-08</td>\n",
              "    </tr>\n",
              "    <tr>\n",
              "      <th>2</th>\n",
              "      <td>123</td>\n",
              "      <td>a89</td>\n",
              "      <td>25</td>\n",
              "      <td>NewEgg</td>\n",
              "      <td>2018-01-06</td>\n",
              "    </tr>\n",
              "    <tr>\n",
              "      <th>3</th>\n",
              "      <td>77</td>\n",
              "      <td>q45</td>\n",
              "      <td>3</td>\n",
              "      <td>NewEgg</td>\n",
              "      <td>2018-01-03</td>\n",
              "    </tr>\n",
              "    <tr>\n",
              "      <th>4</th>\n",
              "      <td>77</td>\n",
              "      <td>a89</td>\n",
              "      <td>30</td>\n",
              "      <td>NewEgg</td>\n",
              "      <td>2018-01-05</td>\n",
              "    </tr>\n",
              "    <tr>\n",
              "      <th>5</th>\n",
              "      <td>92</td>\n",
              "      <td>xt23</td>\n",
              "      <td>24</td>\n",
              "      <td>Amazon</td>\n",
              "      <td>2018-01-04</td>\n",
              "    </tr>\n",
              "    <tr>\n",
              "      <th>6</th>\n",
              "      <td>92</td>\n",
              "      <td>m33</td>\n",
              "      <td>60</td>\n",
              "      <td>Amazon</td>\n",
              "      <td>2018-01-07</td>\n",
              "    </tr>\n",
              "    <tr>\n",
              "      <th>7</th>\n",
              "      <td>92</td>\n",
              "      <td>a89</td>\n",
              "      <td>28</td>\n",
              "      <td>Amazon</td>\n",
              "      <td>2018-01-02</td>\n",
              "    </tr>\n",
              "  </tbody>\n",
              "</table>\n",
              "</div>"
            ],
            "text/plain": [
              "   userid product  price website        date\n",
              "0     123    xt23     20  Amazon  2018-01-12\n",
              "1     123     q45      2  Amazon  2018-01-08\n",
              "2     123     a89     25  NewEgg  2018-01-06\n",
              "3      77     q45      3  NewEgg  2018-01-03\n",
              "4      77     a89     30  NewEgg  2018-01-05\n",
              "5      92    xt23     24  Amazon  2018-01-04\n",
              "6      92     m33     60  Amazon  2018-01-07\n",
              "7      92     a89     28  Amazon  2018-01-02"
            ]
          },
          "execution_count": 45,
          "metadata": {},
          "output_type": "execute_result"
        }
      ],
      "source": [
        "df"
      ]
    },
    {
      "cell_type": "code",
      "execution_count": 46,
      "metadata": {
        "colab": {
          "base_uri": "https://localhost:8080/"
        },
        "id": "tCmbDsQf3Jkw",
        "outputId": "7b51e9e2-4ba2-4753-b09e-4df176afe143"
      },
      "outputs": [
        {
          "data": {
            "text/plain": [
              "RangeIndex(start=0, stop=5, step=1)"
            ]
          },
          "execution_count": 46,
          "metadata": {},
          "output_type": "execute_result"
        }
      ],
      "source": [
        "df4.index"
      ]
    },
    {
      "cell_type": "code",
      "execution_count": 49,
      "metadata": {
        "colab": {
          "base_uri": "https://localhost:8080/",
          "height": 206
        },
        "id": "QSReqsWH3Jkx",
        "outputId": "b3c4db31-0c97-4265-9541-ad246bb04621"
      },
      "outputs": [
        {
          "data": {
            "text/html": [
              "<div>\n",
              "<style scoped>\n",
              "    .dataframe tbody tr th:only-of-type {\n",
              "        vertical-align: middle;\n",
              "    }\n",
              "\n",
              "    .dataframe tbody tr th {\n",
              "        vertical-align: top;\n",
              "    }\n",
              "\n",
              "    .dataframe thead th {\n",
              "        text-align: right;\n",
              "    }\n",
              "</style>\n",
              "<table border=\"1\" class=\"dataframe\">\n",
              "  <thead>\n",
              "    <tr style=\"text-align: right;\">\n",
              "      <th></th>\n",
              "      <th>userid</th>\n",
              "      <th>product</th>\n",
              "      <th>price</th>\n",
              "      <th>website</th>\n",
              "      <th>date</th>\n",
              "      <th>date_x</th>\n",
              "      <th>avg_prior_price</th>\n",
              "    </tr>\n",
              "  </thead>\n",
              "  <tbody>\n",
              "    <tr>\n",
              "      <th>0</th>\n",
              "      <td>123</td>\n",
              "      <td>xt23</td>\n",
              "      <td>20</td>\n",
              "      <td>Amazon</td>\n",
              "      <td>2018-01-12</td>\n",
              "      <td>2018-01-12</td>\n",
              "      <td>13.5</td>\n",
              "    </tr>\n",
              "    <tr>\n",
              "      <th>1</th>\n",
              "      <td>123</td>\n",
              "      <td>q45</td>\n",
              "      <td>2</td>\n",
              "      <td>Amazon</td>\n",
              "      <td>2018-01-08</td>\n",
              "      <td>2018-01-08</td>\n",
              "      <td>25.0</td>\n",
              "    </tr>\n",
              "    <tr>\n",
              "      <th>2</th>\n",
              "      <td>77</td>\n",
              "      <td>a89</td>\n",
              "      <td>30</td>\n",
              "      <td>NewEgg</td>\n",
              "      <td>2018-01-05</td>\n",
              "      <td>2018-01-05</td>\n",
              "      <td>3.0</td>\n",
              "    </tr>\n",
              "    <tr>\n",
              "      <th>3</th>\n",
              "      <td>92</td>\n",
              "      <td>xt23</td>\n",
              "      <td>24</td>\n",
              "      <td>Amazon</td>\n",
              "      <td>2018-01-04</td>\n",
              "      <td>2018-01-04</td>\n",
              "      <td>28.0</td>\n",
              "    </tr>\n",
              "    <tr>\n",
              "      <th>4</th>\n",
              "      <td>92</td>\n",
              "      <td>m33</td>\n",
              "      <td>60</td>\n",
              "      <td>Amazon</td>\n",
              "      <td>2018-01-07</td>\n",
              "      <td>2018-01-07</td>\n",
              "      <td>26.0</td>\n",
              "    </tr>\n",
              "  </tbody>\n",
              "</table>\n",
              "</div>"
            ],
            "text/plain": [
              "   userid product  price website        date      date_x  avg_prior_price\n",
              "0     123    xt23     20  Amazon  2018-01-12  2018-01-12             13.5\n",
              "1     123     q45      2  Amazon  2018-01-08  2018-01-08             25.0\n",
              "2      77     a89     30  NewEgg  2018-01-05  2018-01-05              3.0\n",
              "3      92    xt23     24  Amazon  2018-01-04  2018-01-04             28.0\n",
              "4      92     m33     60  Amazon  2018-01-07  2018-01-07             26.0"
            ]
          },
          "execution_count": 49,
          "metadata": {},
          "output_type": "execute_result"
        }
      ],
      "source": [
        "final = df.merge(\n",
        "    df4,\n",
        "    left_on=['userid', 'date'],\n",
        "    right_on=['userid', 'date_x'],\n",
        "    )\n",
        "final"
      ]
    },
    {
      "cell_type": "markdown",
      "metadata": {
        "id": "eWey9doO3Jkx"
      },
      "source": [
        "#### **SORT**: Sort to make the results look pretty."
      ]
    },
    {
      "cell_type": "code",
      "execution_count": 50,
      "metadata": {
        "colab": {
          "base_uri": "https://localhost:8080/",
          "height": 206
        },
        "id": "soGAEp0G3Jkx",
        "outputId": "7084d386-93f6-4834-8481-780f90805955"
      },
      "outputs": [
        {
          "data": {
            "text/html": [
              "<div>\n",
              "<style scoped>\n",
              "    .dataframe tbody tr th:only-of-type {\n",
              "        vertical-align: middle;\n",
              "    }\n",
              "\n",
              "    .dataframe tbody tr th {\n",
              "        vertical-align: top;\n",
              "    }\n",
              "\n",
              "    .dataframe thead th {\n",
              "        text-align: right;\n",
              "    }\n",
              "</style>\n",
              "<table border=\"1\" class=\"dataframe\">\n",
              "  <thead>\n",
              "    <tr style=\"text-align: right;\">\n",
              "      <th></th>\n",
              "      <th>userid</th>\n",
              "      <th>product</th>\n",
              "      <th>price</th>\n",
              "      <th>website</th>\n",
              "      <th>date</th>\n",
              "      <th>date_x</th>\n",
              "      <th>avg_prior_price</th>\n",
              "    </tr>\n",
              "  </thead>\n",
              "  <tbody>\n",
              "    <tr>\n",
              "      <th>2</th>\n",
              "      <td>77</td>\n",
              "      <td>a89</td>\n",
              "      <td>30</td>\n",
              "      <td>NewEgg</td>\n",
              "      <td>2018-01-05</td>\n",
              "      <td>2018-01-05</td>\n",
              "      <td>3.0</td>\n",
              "    </tr>\n",
              "    <tr>\n",
              "      <th>3</th>\n",
              "      <td>92</td>\n",
              "      <td>xt23</td>\n",
              "      <td>24</td>\n",
              "      <td>Amazon</td>\n",
              "      <td>2018-01-04</td>\n",
              "      <td>2018-01-04</td>\n",
              "      <td>28.0</td>\n",
              "    </tr>\n",
              "    <tr>\n",
              "      <th>4</th>\n",
              "      <td>92</td>\n",
              "      <td>m33</td>\n",
              "      <td>60</td>\n",
              "      <td>Amazon</td>\n",
              "      <td>2018-01-07</td>\n",
              "      <td>2018-01-07</td>\n",
              "      <td>26.0</td>\n",
              "    </tr>\n",
              "    <tr>\n",
              "      <th>1</th>\n",
              "      <td>123</td>\n",
              "      <td>q45</td>\n",
              "      <td>2</td>\n",
              "      <td>Amazon</td>\n",
              "      <td>2018-01-08</td>\n",
              "      <td>2018-01-08</td>\n",
              "      <td>25.0</td>\n",
              "    </tr>\n",
              "    <tr>\n",
              "      <th>0</th>\n",
              "      <td>123</td>\n",
              "      <td>xt23</td>\n",
              "      <td>20</td>\n",
              "      <td>Amazon</td>\n",
              "      <td>2018-01-12</td>\n",
              "      <td>2018-01-12</td>\n",
              "      <td>13.5</td>\n",
              "    </tr>\n",
              "  </tbody>\n",
              "</table>\n",
              "</div>"
            ],
            "text/plain": [
              "   userid product  price website        date      date_x  avg_prior_price\n",
              "2      77     a89     30  NewEgg  2018-01-05  2018-01-05              3.0\n",
              "3      92    xt23     24  Amazon  2018-01-04  2018-01-04             28.0\n",
              "4      92     m33     60  Amazon  2018-01-07  2018-01-07             26.0\n",
              "1     123     q45      2  Amazon  2018-01-08  2018-01-08             25.0\n",
              "0     123    xt23     20  Amazon  2018-01-12  2018-01-12             13.5"
            ]
          },
          "execution_count": 50,
          "metadata": {},
          "output_type": "execute_result"
        }
      ],
      "source": [
        "final.sort_values(by=['userid', 'date'])"
      ]
    }
  ],
  "metadata": {
    "colab": {
      "name": "pandas-revisited-pt2.ipynb",
      "provenance": []
    },
    "kernelspec": {
      "display_name": "Python 3 (ipykernel)",
      "language": "python",
      "name": "python3"
    },
    "language_info": {
      "codemirror_mode": {
        "name": "ipython",
        "version": 3
      },
      "file_extension": ".py",
      "mimetype": "text/x-python",
      "name": "python",
      "nbconvert_exporter": "python",
      "pygments_lexer": "ipython3",
      "version": "3.9.7"
    },
    "toc": {
      "base_numbering": 1,
      "nav_menu": {},
      "number_sections": false,
      "sideBar": true,
      "skip_h1_title": false,
      "title_cell": "Table of Contents",
      "title_sidebar": "Contents",
      "toc_cell": false,
      "toc_position": {},
      "toc_section_display": true,
      "toc_window_display": true
    }
  },
  "nbformat": 4,
  "nbformat_minor": 0
}
